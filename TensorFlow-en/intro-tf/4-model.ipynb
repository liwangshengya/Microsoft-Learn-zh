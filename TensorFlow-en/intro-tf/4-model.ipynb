{
  "cells": [
    {
      "cell_type": "code",
      "source": [
        "import os\n",
        "os.environ[\"CUDA_VISIBLE_DEVICES\"] = \"-1\"\n",
        "\n",
        "import tensorflow as tf\n",
        "from typing import Tuple"
      ],
      "outputs": [],
      "execution_count": 1,
      "metadata": {}
    },
    {
      "cell_type": "markdown",
      "source": [
        "Now that you've learned about tensors, variables, and automatic differentiation, you're ready to learn how to define a neural network from scratch using lower-level TensorFlow operations. It's important to understand these foundational concepts because they give you the flexibility to customize your neural networks in any way you like.\n",
        "\n",
        "As a reminder, here's the structure of the neural network we defined using Keras:\n",
        "\n",
        "![Basic neural network](./images/1-fashion-nn.png)\n",
        "\n",
        "And here's the same neural network, this time showing the $W$ and $b$ parameters we want to learn during training: \n",
        "\n",
        "![Basic neural network with details](./images/2-fashion-nn-with-details.png)\n",
        "\n",
        "Notice that our neural network is composed of two `Dense` layers, and that the first those contains a `ReLU` (\"Rectified Linear Unit\") activation function. In Keras, we can build our model by simply initializing the `Dense` objects with the appropriate activation functions. If we don't want to use Keras, we need to understand the operations performed by a `Dense` layer a bit better and replicate them. It turns out that a `Dense` layer is just about the simplest type of layer we can use, so it's not that hard to understand and replicate. A `Dense` layer takes as input a $W$ parameter, a $b$ parameter, and data $x$ that comes from the previous layer, and produces the following output:\n",
        "\n",
        "$$\n",
        "z = Wx + b\n",
        "$$\n",
        "\n",
        "The output of the first `Dense` layer is then passed as input to a `ReLU` non-linear function in the following way:\n",
        "\n",
        "$$\n",
        "a = ReLU(z)\n",
        "$$\n",
        "\n",
        "Let's now see how we can represent these concepts using TensorFlow code."
      ],
      "metadata": {}
    },
    {
      "cell_type": "code",
      "source": [
        "class NeuralNetwork(tf.keras.Model):\n",
        "  def __init__(self):\n",
        "    super(NeuralNetwork, self).__init__()\n",
        "    initializer = tf.keras.initializers.GlorotUniform()\n",
        "    self.W1 = tf.Variable(initializer(shape=(784, 20)))\n",
        "    self.b1 = tf.Variable(tf.zeros(shape=(20,)))\n",
        "    self.W2 = tf.Variable(initializer(shape=(20, 10)))\n",
        "    self.b2 = tf.Variable(tf.zeros(shape=(10,)))\n",
        "\n",
        "  def call(self, x: tf.Tensor) -> tf.Tensor:\n",
        "    x = tf.reshape(x, [-1, 784])\n",
        "    x = tf.matmul(x, self.W1) + self.b1\n",
        "    x = tf.nn.relu(x)\n",
        "    x = tf.matmul(x, self.W2) + self.b2\n",
        "    return x"
      ],
      "outputs": [],
      "execution_count": 2,
      "metadata": {}
    },
    {
      "cell_type": "markdown",
      "source": [
        "Notice that here we're explicitly instantiating parameters $W$ and $b$ using TensorFlow `Variables` (rather than `Tensors`) because their values change during training. Notice also how we initialize their values &mdash; the parameters $b$ are typically initialized to zero, and the parameters $W$ are typically initialized to small random values. There are many methods for parameter initialization, and the choice of technique can have a big effect on how well the neural network trains.\n",
        "\n",
        "Other than that, you can see that the additions, multiplications, and `ReLU` calls we discussed earlier are reflected in the code as you might expect."
      ],
      "metadata": {}
    }
  ],
  "metadata": {
    "interpreter": {
      "hash": "322def6d9eafe65d19dfaee2fc4a6353a7e975f38a3d058434ac22ddbd6ca8db"
    },
    "kernelspec": {
      "name": "conda-env-azureml_py38-py",
      "language": "python",
      "display_name": "azureml_py38"
    },
    "language_info": {
      "name": "python",
      "version": "3.7.9",
      "mimetype": "text/x-python",
      "codemirror_mode": {
        "name": "ipython",
        "version": 3
      },
      "pygments_lexer": "ipython3",
      "nbconvert_exporter": "python",
      "file_extension": ".py"
    },
    "kernel_info": {
      "name": "azureml_py38_PT_and_TF"
    },
    "nteract": {
      "version": "nteract-front-end@1.0.0"
    }
  },
  "nbformat": 4,
  "nbformat_minor": 4
}