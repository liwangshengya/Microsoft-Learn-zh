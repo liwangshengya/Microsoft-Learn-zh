{
  "cells": [
    {
      "cell_type": "markdown",
      "source": [
        "# Audio data\n",
        "\n",
        "We need to first get a better understanding of our audio data. Here, we'll look at some key concepts and features of audio data.\n",
        "\n",
        "An audio signal is the vibration generated when sound passes through air.  For audio, when sound is captured from a microphone, it's in analog form.  The analog sound is converted to digital sound format by sampling at consistent intervals of time. The number of audio data points recorded every second is called the *sample rate*. \n",
        "\n",
        "- The higher the sample rate, the higher the quality of the sound. However, after a certain point, the human ear can't detect the difference. \n",
        "- The average sound sample rate is 48 kilohertz (KHz) or 48,000 samples per second. The dataset we'll be using in this module was sampled at 16 KHz, so our sample rate is 16,000.\n",
        "\n",
        "我们需要首先更好地了解我们的音频数据。 在这里，我们将了解音频数据的一些关键概念和特征。\n",
        "\n",
        "音频信号是声音在空气中传播时产生的振动。 对于音频，当从麦克风捕获声音时，它是模拟形式的。 通过以一致的时间间隔采样，将模拟声音转换为数字声音格式。 每秒记录的音频数据点数称为*采样率*。\n",
        "\n",
        "- 采样率越高，声音质量越高。 然而，在某一点之后，人耳无法察觉差异。\n",
        "- 平均声音采样率为 48 千赫 (KHz) 或每秒 48,000 个样本。 我们将在本模块中使用的数据集以 16 KHz 的频率采样，因此我们的采样率为 16,000。\n",
        "\n",
        "<img alt=\"Diagram that shows an audio sound wave.\" src=\"images/2-understand-audio-data-1.png\" align=\"middle\" />\n",
        "\n",
        "When the audio is sampled, the *frequency* of the sound is the number of times per second that a sound wave repeats itself. The *amplitude* is how loud the audio is. We can take our sample rate and frequency, and represent the signal visually. This visual signal can be represented as a *waveform*, which is the signal representation over time in a graphical format. The audio can be recorded in different channels. For example, stereo recordings have two channels, right and left.\n",
        "\n",
        "Now let's take a moment to understand how we might want to parse out a file. For example, if you have longer audio files, you might want to split it out into frames, or sections, of the audio to be classified individually. For this dataset, we don't need to set any frames of our audio samples, because each sample is only one second and one word. Another processing step might be an *offset*, which means the number of frames from the start of the file to begin data loading.\n",
        "\n",
        "当音频被采样时，声音的*频率*是声波每秒重复自身的次数。 *amplitude* 是音频的音量。 我们可以采用我们的采样率和频率，并直观地表示信号。 这种视觉信号可以表示为*波形*，它是随时间变化的信号以图形格式表示。 音频可以记录在不同的通道中。 例如，立体声录音有左右两个声道。\n",
        "\n",
        "现在让我们花点时间了解我们可能希望如何解析文件。 例如，如果您有较长的音频文件，您可能希望将其拆分为音频的帧或部分以单独分类。 对于这个数据集，我们不需要设置音频样本的任何帧，因为每个样本只有一秒钟和一个单词。 另一个处理步骤可能是 *offset*，这意味着从文件开始到开始数据加载的帧数。\n"
      ],
      "metadata": {}
    },
    {
      "cell_type": "markdown",
      "source": [
        "## Get set up with TorchAudio\n",
        "\n",
        "TorchAudio is a library that is part of the PyTorch ecosystem. It has I/O functionality, popular open datasets, and common audio transformations that we'll need to build our model. We will use this library to work with our audio data.\n",
        "\n",
        "Let's get started! First, we'll import the packages needed:\n",
        "\n",
        "TorchAudio 是属于 PyTorch 生态系统一部分的库。 它具有我们构建模型所需的 I/O 功能、流行的开放数据集和常见的音频转换。 我们将使用这个库来处理我们的音频数据。\n",
        "\n",
        "让我们开始吧！ 首先，我们将导入所需的包："
      ],
      "metadata": {}
    },
    {
      "cell_type": "code",
      "source": [
        "!pip install -r https://raw.githubusercontent.com/MicrosoftDocs/pytorchfundamentals/main/audio-pytorch/install-packages.txt"
      ],
      "outputs": [],
      "execution_count": null,
      "metadata": {
        "vscode": {
          "languageId": "json"
        }
      }
    },
    {
      "cell_type": "code",
      "source": [
        "# import the packages\n",
        "import os\n",
        "import torchaudio\n",
        "import IPython.display as ipd\n",
        "import matplotlib.pyplot as plt"
      ],
      "outputs": [],
      "execution_count": 1,
      "metadata": {
        "vscode": {
          "languageId": "json"
        }
      }
    },
    {
      "cell_type": "markdown",
      "source": [
        "## Get the speech commands dataset\n",
        "\n",
        "PyTorch has a variety of sample datasets available, which is helpful when you're trying to learn and play around with different audio models. We will use the speech commands sample dataset, and download the full dataset in a local directory. Note that we're only using the `yes` and `no` classes to create a binary classification model. \n",
        "\n",
        "PyTorch 有各种可用的示例数据集，这在您尝试学习和尝试不同的音频模型时很有帮助。 我们将使用语音命令示例数据集，并在本地目录中下载完整的数据集。 请注意，我们仅使用`是`和`否`类来创建二元分类模型。"
      ],
      "metadata": {}
    },
    {
      "cell_type": "markdown",
      "source": [
        "### Create a data folder"
      ],
      "metadata": {}
    },
    {
      "cell_type": "code",
      "source": [
        "default_dir = os.getcwd()\n",
        "folder = 'data'\n",
        "print(f'Data directory will be: {default_dir}/{folder}')\n",
        "\n",
        "if os.path.isdir(folder):\n",
        "    print(\"Data folder exists.\")\n",
        "else:\n",
        "    print(\"Creating folder.\")\n",
        "    os.mkdir(folder) "
      ],
      "outputs": [
        {
          "output_type": "stream",
          "name": "stdout",
          "text": "Data directory will be: /learn/data\nData folder exists.\n"
        }
      ],
      "execution_count": 2,
      "metadata": {
        "vscode": {
          "languageId": "json"
        }
      }
    },
    {
      "cell_type": "markdown",
      "source": [
        "### Download the dataset to the data folder"
      ],
      "metadata": {}
    },
    {
      "cell_type": "markdown",
      "source": [
        "We'll use `torchaudio` to download the dataset files to a local folder.  PyTorch provides multiple sample image, text, and audio datasets. We'll be using the `SPEECHCOMMANDS` dataset from the `torchaudio` library.\r\n",
        "\r\n",
        "我们将使用 `torchaudio` 将数据集文件下载到本地文件夹。 PyTorch 提供了多个示例图像、文本和音频数据集。 我们将使用 `torchaudio` 库中的 `SPEECHCOMMANDS` 数据集。"
      ],
      "metadata": {}
    },
    {
      "cell_type": "code",
      "source": [
        "trainset_speechcommands = torchaudio.datasets.SPEECHCOMMANDS(f'./{folder}/', download=True)"
      ],
      "outputs": [],
      "execution_count": 3,
      "metadata": {
        "vscode": {
          "languageId": "json"
        }
      }
    },
    {
      "cell_type": "markdown",
      "source": [
        "\n",
        "### Visualize the classes available in the dataset"
      ],
      "metadata": {}
    },
    {
      "cell_type": "markdown",
      "source": [
        "There are 36 audio classes in the speech commands dataset, each sampled at 16 KHz. Let's print the different commands available. The two classes we'll be using are the `yes` and `no` commands.\r\n",
        "\r\n",
        "语音命令数据集中有 36 个音频类，每个以 16 KHz 采样。 让我们打印可用的不同命令。 我们将使用的两个类是 `yes` 和 `no` 命令。"
      ],
      "metadata": {}
    },
    {
      "cell_type": "code",
      "source": [
        "os.chdir(f'./{folder}/SpeechCommands/speech_commands_v0.02/')\n",
        "labels = [name for name in os.listdir('.') if os.path.isdir(name)]\n",
        "# back to default directory\n",
        "os.chdir(default_dir)\n",
        "print(f'Total Labels: {len(labels)} \\n')\n",
        "print(f'Label Names: {labels}')"
      ],
      "outputs": [],
      "execution_count": null,
      "metadata": {
        "scrolled": true,
        "vscode": {
          "languageId": "json"
        }
      }
    },
    {
      "cell_type": "markdown",
      "source": [
        "## Convert the sound to tensor\n",
        "\n",
        "You likely have used a wave file before. It's one format in which we save our digital representation of our analog audio to be shared and played. The speech commands dataset that we will be using in this tutorial is stored in wave files that are all one second or less.\n",
        "\n",
        "Let's load up one of the wave files and take a look at how the tensors for the `waveform` look. We're loading the files by using `torchaudio.load`, which loads an audio file into a `torch.Tensor` object. TorchAudio takes care of the implementation, so you don't need to worry about it. The `torch.load` function returns the waveform as a tensor, and an `int` of the `sample_rate`. \n",
        "\n",
        "您之前可能使用过波形文件。 这是我们保存要共享和播放的模拟音频的数字表示的一种格式。 我们将在本教程中使用的语音命令数据集存储在一秒或更短的波形文件中。\n",
        "\n",
        "让我们加载一个波形文件，看看`波形`的张量是什么样子的。 我们使用 `torchaudio.load` 加载文件，它将音频文件加载到 `torch.Tensor` 对象中。 TorchAudio 负责实施，因此您无需担心。 `torch.load` 函数返回波形作为张量，以及 `sample_rate` 的 `int`。"
      ],
      "metadata": {}
    },
    {
      "cell_type": "code",
      "source": [
        "filename = \"./data/SpeechCommands/speech_commands_v0.02/yes/00f0204f_nohash_0.wav\"\n",
        "waveform, sample_rate = torchaudio.load(filepath=filename, num_frames=3)\n",
        "print(f'waveform tensor with 3 frames:  {waveform} \\n')\n",
        "waveform, sample_rate = torchaudio.load(filepath=filename, num_frames=3, frame_offset =2)\n",
        "print(f'waveform tensor with 2 frame_offsets: {waveform} \\n')\n",
        "waveform, sample_rate = torchaudio.load(filepath=filename)\n",
        "print(f'waveform tensor:  {waveform}' )"
      ],
      "outputs": [],
      "execution_count": null,
      "metadata": {
        "vscode": {
          "languageId": "json"
        }
      }
    },
    {
      "cell_type": "markdown",
      "source": [
        "## Plot the waveform\n",
        "\n",
        "Next, create a `plot_audio` function to display the waveform, and listen to a sample of each class.\n",
        "\n",
        "接下来，创建一个 `plot_audio` 函数来显示波形，并收听每个类的样本。"
      ],
      "metadata": {}
    },
    {
      "cell_type": "code",
      "source": [
        "def plot_audio(filename):\n",
        "    waveform, sample_rate = torchaudio.load(filename)\n",
        "\n",
        "    print(\"Shape of waveform: {}\".format(waveform.size()))\n",
        "    print(\"Sample rate of waveform: {}\".format(sample_rate))\n",
        "\n",
        "    plt.figure()\n",
        "    plt.plot(waveform.t().numpy())\n",
        "\n",
        "    return waveform, sample_rate"
      ],
      "outputs": [],
      "execution_count": null,
      "metadata": {
        "vscode": {
          "languageId": "json"
        }
      }
    },
    {
      "cell_type": "markdown",
      "source": [
        "The size of the audio is 1 x 16000. This means that it's 1 second long, at a sample rate of 16000. We can see the graphical waveform of the sound pattern captured, and play the audio for the `yes` command.\r\n",
        "\r\n",
        "音频的大小为 1 x 16000。这意味着它的长度为 1 秒，采样率为 16000。我们可以看到捕获的声音模式的图形波形，并为“是”命令播放音频。"
      ],
      "metadata": {}
    },
    {
      "cell_type": "code",
      "source": [
        "filename = \"./data/SpeechCommands/speech_commands_v0.02/yes/00f0204f_nohash_0.wav\"\n",
        "waveform, sample_rate = plot_audio(filename)\n",
        "ipd.Audio(waveform.numpy(), rate=sample_rate)"
      ],
      "outputs": [],
      "execution_count": null,
      "metadata": {
        "vscode": {
          "languageId": "json"
        }
      }
    },
    {
      "cell_type": "markdown",
      "source": [
        "Next, let's look at the waveform and audio for the `no` command. As you can see, the waveform differs from the sound pattern for `yes`.\r\n",
        "\r\n",
        "接下来，让我们看看 `no` 命令的波形和音频。 如您所见，波形与`是`的声音模式不同。"
      ],
      "metadata": {}
    },
    {
      "cell_type": "code",
      "source": [
        "filename = \"./data/SpeechCommands/speech_commands_v0.02/no/0b40aa8e_nohash_0.wav\"\n",
        "waveform, sample_rate = plot_audio(filename)\n",
        "ipd.Audio(waveform.numpy(), rate=sample_rate)"
      ],
      "outputs": [
        {
          "output_type": "stream",
          "name": "stdout",
          "text": "Shape of waveform: torch.Size([1, 16000])\nSample rate of waveform: 16000\n"
        },
        {
          "output_type": "execute_result",
          "execution_count": 18,
          "data": {
            "text/html": "\n                <audio  controls=\"controls\" >\n                    <source src=\"data:audio/wav;base64,UklGRiR9AABXQVZFZm10IBAAAAABAAEAgD4AAAB9AAACABAAZGF0YQB9AACsAPMAuQDbANAA0wC3AKsAvgCZALMA5gDjAAcBHQEIAfsA+gD7ANkAuQD6ABUB5gD1ANEAqwDZAOoA+AD9ANYAqQDBAPYAtgDBAOoArwDLAMkAuQDrAOsA3gDeAM4A2wANAd4AswDMAL4AwwCjAJoAuwCRAJwAqQCOAI8ArgCpAIQApwCvAI4AfACZAL4AkgCfALEAdACJAHoARQB3AJQAnwCBADsAfACrAGIAfQCvAGoAYgCBAGcAkQC8AFMAKQCUAKwApgCkAIoAkQCaALEAhAB6ALYAtgCuAJkAjACPAKYAnACPAJYAlgDOAJoAPgCeANkAcACBAMAAhQBtAIEA5gDoAGQAYgCXALwApwBsAH0AsQCJAF0ApACkAH8AhwCUAJwAWgBnAHwAWgBsAGIASAA9AFgAcgB/AGwAbwCcAJQAfQAjACsAowCxALcAhABiAIwAcgB5AGcAQgBsAGUAXQB9AG8AUgBaAJwAnwBHAEUAZwB8AJEAcgBHAGUAmgBfADYAZwChAG8AOwCWAIEAQABDAE8AcgBIAEMAUgA9AHQAeQBFAFIAigCnAI4AbABPAEsAdwCWAIIAaACOAH0AWACKAHcAhACjAIkAlgBFAFsApwB9AHwAagB6AKYAmgCPAHIAZABsAFMARQBYAGQAUwA+ADIAKwArAEMAUABTAEsAQgBNAGUAagBLAGUAYgAhACgAWABvAFoAQABKAGgAdAB0AH0AhACBAFMALgBHAF0ARQA6AGgAeQBqAGAASgBkAGoAYgBgAEMAZQCEAGUARQBIAE0AMwArAAkABABVAFsAHgAuADgACQAbADsAOwA1ABgADAARACkALQATACEAQgA2ACUALQAdADAASAArACYAMgApABAA9P8WACYAEQAGAAwATQAhAPT/HgAtADUAKAAzAEcASABQAG0AaAATADAATQAAAB4AEAD//z0AEQD3/xgAAwAEACsACADs//L/9f////D//f///wwACADy/yMALgAZAAgAEQAZAAQABAD4/xMAQgAWANj/8P/s/77/4//1/9f/4//4//X/zv/I////4v+m/7b/zv/d/+P/qP+c//f/xv95/8r/yP+Z/8j/nP+M/8L/uP+Z/3v/wP/Q/4n/f/+j/6n/jP+u/5b/gf+p/5H/mf+p/6H/qf+1/63/qP+o/5P/m//Y/9L/mP+z/6P/if+Z/5b/rv+t/7j/uP+4//r/xv+c/9r/nP+H/7j/qP+p/7X/uP/A/9L/y//I/6n/i/++/8j/wv/F/7n/vv+9/+D/4v+r/8v/BgDj/8X/4v/g/87/5//s/+//+v/N/8L/1f/n//X/0//S//T/5//D/77/1//G/7j/2v/I/7j/6P/8/7n/mP/d/+z/sf+1/8j/jP+T/73/mP+5/+f/sP+e/93/1//A/8r/0//i/8r/8P/w/7n//f8AANj/6v/q/+L/9f/0/7P/xv/j/+//9/+2/9P/8v/a/8X/w//Q/7H/6v/n/5z/xv/0/93/sP/K//r/2/+o/4P/sP/0/8v/o/+m/7n/yv+m/6P/tf+T/4n/k/+R/8L/sf+g//X/xv+m/9r/of+l/7H/of/D/4v/hP+u/6X/vf/F/5n/Z/9q/3b/lv+u/3z/kf+u/1X/Pf9p/yv/Ov95/1f/Rf9A/0T/OP8//0r/N/83/zT/V/80/wb/Pf89/03/fP9p/z3/Vf9h/0X/V/9X/2f/e/+G/2f/Pf+E/3T/Vf+M/13/P/9k/3L/ZP9m/2f/V/9V/1f/Pf9R/57/cv9K/1r/P/9J/0D/J/84/0//XP81/wr/IP8j/xr/KP8v/yD/C/8V/zT/H//j/tz+IP9M/1n/V/9P/0X/KP9K/zz/K/9h/1n/Wf86/yD/X/9v/2r/Yv9K/1//XP9S/0r/Lf9U/2b/Pf9M/2f/Uf84/1L/Uv8w/z3/Rf/u/vb+Sv/x/vn+Lf/x/hD/PP84/yr/+P7U/hL/J/8K/yr/Iv8r/zj/Kv9J/2H/b/9m/3H/fP9v/5z/hv9S/2b/b/+O/6H/e/+B/1//Tf+b/63/nv+e/7b/zv/I/8D/qP+z/7b/hv+m/9f/yv+7/5n/rf+7/5z/nv+1/+X/xv+x/8X/sf/O/6v/qf/g/8r/yP+1/9X/3f+T/9P/5/+g/9X/4////1sAFgDv/w4Azv/j/w4A2P/y/xQA5f/q/wgACwD//+D/4//j/+r/DgABAAAALgATAPT/7f/G/+j/GQDq/+r//P8DAOP/qf8RAP3/nv/F/8X/u/+5/8X/m/+B/6j/xv/G/7H/uf+2/+D//f+9/8P/7//n/+//7//X/9f/7f/g/+j/CQDq/9//7P/C/7j/vf+m/9L/7P/O//r/7f/Q//X/6P/d/93/9P8JAOj/u//i/wAA9//s/6n/sf/f/+P/0//Y/8j/mP/N/7X/cv+2/7P/f/+W/5H/if+g/4v/lv/F/57/qP/f/87/0P++/8L/5f/a/8j/2//q/8r/xf/N/9L/vv/V//D/y//a/9L/uP/O/8L/sf/l//f/4v/S/67/4P8BAOL/wv+e//r/AACL/9j/LQD4/+z/6P/Y/9v/0/++/5D/o//f/9X/0P/y//T/2//V/83/vf/q/+X/tf/w/+f/sP/K/6b/sP/8/9L/uP/Y/9v/4P/n/9r/2v/n/9D/sP+w/8L/2//o/9j/1f/d/9j/2//w//3/7//g/9v/3//N/7H/xv/K/8b/AwAmAA4A///j/9X/0v/f//D/xv/g/+//yv/q/9f/0/8OAAYACAADAPL/DgD4/+z/9f8MAD0AKAAtAEMAGwAIACsAKAAuAFcASABgAFgAAAD0/zAAHQD//z4AIQDl//j/+P8YADAAGQAzAEoAWwBfADoATQBlAE8ANQA2AE0ASgAAAPL/PQAWACMATQAYAFcAfwBgAFIAXQBtAE8AXQBQAEgAWABdAGIAOwBIAGcAhQCEAGIAbQBiAFUASABlAJoAYgA+AFUAVwCXAKYAYgB1AJEAWwBNAHwAUgAmACYAFAA1ACUA9P8JAB4ADgA2ADgAFgALAP3/IQAlAFUASgAlAGIAMwAdACsABAD1/xgAWgAtAAEARwAyAAQANQApADYAXwAOAPT/EAAIAB4AMgAhABAADgABACUANQAYADYARQBPAFcASgAwADAAQAAyAFIAYABHAC4AAQAgAD0ACwAuAGAANQA1AC4AMgBPACEANgA1ABYAZQBKABAAQwAjAAgATQAyABAARQBQAFgAVQBCAFcAZwBAACgAOgAzAFMAXwA9AFAAQAArAF0AOAD3/x0AMgA7AEIAMwArAAwAIwBvAHAAVQBoAEoAagCmAEoAPgBSAC4AJgATAC4ANgBSAGQAUgBoADUAPQBvAFUAbwB8AD4AOABsAFgAOgBaAGAAWwBYAEoAQwBLAG8AQwAzAGgAXwBSAFMAdAB5AHcAWABCAIwAqwCOAGUAYABtAFcAbwB9AFgAXwBlAEcAUgBSADsASwBFAEMAagB0AFgAXQBtAFcAbABtAC4ANQBQADgAQwBoAEsAQAA9ADoAaAA2ACAAWgA6AC0AOwAjADgAWAA6ADIAWABNAEcALgAuAHAAXwBDAHIAdQBNAE8AWgA7ADUAWgBLAEMAOwAOACYANQAzADMAMwBdAC0A9P8uAFMASwBQAD0AMABQAE8ASwB8AHoASgB5AIIASgBiAEAAVwB5AEIAUwBLAEcATQBFAFcAZABdAFAASwAgABMADgAUADoAHQAUABgAGwAEAOX/CQD0/9P/9/8LAPr/1f/1//j/4/8OAPj/9/8OAN3/0/8MAAYA2P/b/93/BgDq/7b/0v+x/8X/2//F/+X/0v/T/wQA6v/n/9P/rv/f/9v/wv/a/+z/7P8LAAwAqP/C//T/lP+m/73/i/+g/6n/o/+h/7P/uf+o/73/tf+c/6b/dv97/87/s/+W/6H/jP+l/47/cv+5/6v/fv+T/5n/k/+D/4n/mf+e/4P/kf+Z/4n/uP+h/6X/u/+Y/6b/of+E/4f/hv9//6P/jv9y/7X/qP+x/9L/q//F/6b/bP+G/5P/nv+W/6H/o/+e/7X/fv95/5n/lP+j/6D/of+p/6n/k/9x/5P/nP9a/2n/lP+l/7X/of+w/7H/h/+e/5z/lP+e/4n/tv+Z/37/o/+T/6P/rf+o/5T/i/95/1n/f/+H/1L/Vf+B/3z/b/9x/0n/Kv9m/1z/G/9E/2z/bP9M/zz/Wv9p/2f/hv+G/3H/hP9+/4P/af9a/4f/kP9+/3H/e/9//6v/rf+O/7P/vf/O/83/mf+9/8D/lP/F/7v/fP+j/8D/mP+5/7j/f/+B/1n/jv+p/2b/o/+b/2H/kf+h/3//pv++/2z/bP98/2H/b/98/4z/Yv9Z/3n/fv+M/3//jP+g/5z/fv9y/5z/dP9f/5D/k/+Q/4v/h/+u/7H/jP+G/6H/o/9y/27/kP97/3v/sP+Q/2b/m/+x/6b/uP+1/5j/qP+p/3//mf+7/7P/o/+z/8v/qf+o/6v/uP/o/8j/lP+O/6b/qf+l/5D/bv+h/7P/m/+e/5b/oP+l/7D/rv+4/6H/dP+T/3//fP95/2r/gf+Q/6b/mP+R/3v/Yf9i/3v/h/9q/4v/rv+b/5T/mP+g/63/dv+B/6P/kf+1/4P/dP+H/1L/V/92/13/K/98/6D/cv+T/3L/Xf9+/4P/oP+O/zf/NP93/4n/g/+U/5z/nv+H/2r/cv95/5D/hP9n/4b/i/+W/6b/jv+Y/7n/qf+G/4T/f/9V/3L/pf98/5T/yP+g/5b/w/+t/4n/uP+p/5n/qf+O/7P/0//Q/8v/o/+h/8r/wv+4/93/1f+w/8v/uf+u/wQAEwD8/wwAzv+2/+z/vv/C/+X/5/8QANr/u//n/7v/vf/1/8X/sP/F/5v/yv/y/6D/w//8/6j/yP/4/7X/1f/9/9X/3f/y/+//6v/S//D/JgAEAOr/EAAOAPz/EAD//wQAHgD1/xgAHQD1/yMA+P/3/yAA3//w/xYA9////xMA8P/1/xsA/P/6/+z/nP+4/9P/tv/q/9D/q//6/wsA8P/i/8r/yP/a/9//zf/G/8L/wP/A/57/pf+o/4b/oP+u/5j/rv/F/9X/2v+Y/5T/vv+u/6P/qP+2/6H/mP+u/6D/nv+E/3z/hP98/7X/rf+m/5H/Wf+U/6v/kf+W/5D/pf+R/4b/ef9P/5P/jP9a/6X/q/9//4T/ef9n/4v/lv92/1//Yv9q/0X/Uv+J/3v/cv9u/1X/Z/93/37/cv98/4H/X/9h/1f/T/9J/zf/Vf9P/zr/Qv9S/03/IP9C/2L/VP9m/3b/Uf9i/5P/Xf9P/1H/Qv9f/zz/Bf9R/3H/Uf9f/y3/4f7m/jD/Ov8Y/x3/Iv8C/9P++/4w/x3/Ev8C/+T+Hf8f/+n+Hf83/x//PP8T/9v+Sv89/9T+I/9N/1//av8o/xj/Pf9i/2T/K/8d/0n/NP84/zL/Ff9c/zT/E/9i/2L/TP9J/1X/XP9u/2f/T/9a/0n/OP8r/zT/Qv9J/0D/KP86/zz/T/9q/27/bP8y/xv/Ev8o/2f/Pf/7/iD/Pf8K/z//Z/8w/0z/Iv8b/3v/Yf8j/xP/+/77/j//Rf8I/yj/Ov8f/1X/Uf8b/yD/IP9H/2H/Uf9V/zT/Kv9s/3T/Uf8//y3/NP9S/27/av9F/xb/N/+T/4z/XP9m/3L/cv9x/4v/kP9p/27/nP+J/0r/ZP+M/63/wv9+/4z/tf9y/3v/rv/C/7v/kf+2/+j/of+M/73/qf+7/+j/vf97/6H/sP+L/8D/u/90/2z/g/+b/8L/vf+g/9P/4//T/9L/wv/C/73/4P/s/93/7//f/8L/vf/d//L/3//g/9v/7P/0/83/7//0/8j/tf+p/8L/0//i/9//0v+1/8r/zf+e/+f/9//g/xAA8v/d/+z/yv+4/8P/0//j//f/5f/n/wAA4//j/87/rv/T/83/yv/4/+P/u//A/9P/7P/1//z/9P/Y/9f/5//s/8b/0/8LAOD/vv+9/8j/AAC9/5b/1/+9/5T/oP+4/67/vf/A/67/9P/n/77/yP/G/+//+v/o//L/CADt/+f/6v+5/7v/nv+7//3/vv+b/8L/qP+r/83/kP+5/9X/i/+5/7n/uP/t/7D/hv+G/3n/nv+u/57/tv/G/8v/q/+Q/7H/zv/s/9r/rv+g/5z/u/+1/6j/u/+2/6v/i/+D/7n/yP+c/5P/sf+c/4P/jP+2/9//vf+4/7b/zf/6/77/tv/I/5j/lP+h/7n/tv+p/63/s/+5/5j/o/+4/8P/0P+j/8D/+P/D/9L/+v/G/7b/s/+r/6n/y//o/7D/qf/X/9L/0P/X/7D/tv/F/67/3f/a/5T/tv/T/73/4//l/9X/u/+1/+X/0v/V/+P/xf/D/9L/7//g/+r/BADT/93/CQD9//f/6v/f//T/9P/t/wkA/f/1//r/4v/l/9X/2//b/8b/0P+x/7D/zf+l/5P/0v/f/9D/6v/n/9D/vf/L/8X/i/+g/7D/fv95/4H/jP+G/3f/d/9x/7v/yP9//4b/tf+7/57/qf+c/5v/sf+Z/6b/1f/n/8r/qP+g/7P/uP+o/5T/nv/l/+r/y/+o/4H/zf/i/6j/w//s/8r/jP9k/3n/of+c/63/vf/I/7v/uP/X/9P/tv+p/8D/0//v/8v/nv+4/7v/0//l/87/uf/K/8b/qf/G/9v/yP+p/3v/nv/a/8D/uP+4/5D/k/+c/1//Yf+R/4v/mP+Y/4v/o/+p/47/kP+j/3b/hv+r/3n/dv9y/3z/m/+Z/5j/dP9y/5H/g/+J/4z/d/90/1//ZP9//4v/jv9u/4b/pv97/27/V/89/3L/bP81/1f/RP9Z/6D/dv9f/z//NP9U/0r/R/9K/03/Zv+U/4H/Z/9m/1z/Tf9F/1f/cv9//1z/b/9y/1f/jP+G/3b/X/89/37/k/95/2z/dv/A/8j/g/9x/3n/Zv9h/1z/Yf98/3f/Wv9X/3b/h/95/3//i/92/2//fP9v/3f/dv+L/9f/sf9//3b/Qv9U/1r/PP9K/2r/dv9v/5T/qf+U/5j/mf+O/4P/pv+1/5j/pf+Y/3T/qP/F/3f/ZP98/3T/if+l/6P/if+G/6j/sP+R/5v/vf+4/7v/s/+R/6P/tv+D/3L/e/98/6X/nv+Z/3//R/93/6b/i/+Y/6H/qf/L/4H/b/+T/2//kP+m/4T/b/+H/5H/fP+B/3b/af+J/4f/av+b/5n/hP9y/0L/Xf9V/1r/hP+D/4P/fv90/13/ZP9c/1X/f/9m/1r/cf89/xv/Ov9S/1z/Z/9p/2z/bv9a/2L/TP8r/yD/Ev9K/0z/Nf9i/1H/TP9c/0L/XP9+/3n/cv+J/6v/h/9p/3T/V/8v/03/Z/89/1n/e/9h/1X/Uf84/yL/Qv9X/2b/Wv8j/yj/TP9A/0D/Xf88/0r/Yf9U/0n/Lf9S/0L/N/9E/y//QP9R/0//TP+J/6D/Sv8t/1f/PP8f/yf/Lf9H/zf/Hf8Q/x3/RP8o/wb/I/8j/xb/Pf9E/0z/Qv80/0//Qv9E/0f/Sf9S/yr/Sf9//3T/Wf9K/0//N/8Y/0r/Z/88/1//f/9U/0X/VP98/5j/dv9P/1r/ef90/3H/ZP97/63/if9s/3f/h//D/9r/jP+h/9j/of+Y/4P/bP92/4f/sf+e/6D/kf+H/8L/rv+p/7X/of+Q/3b/k/+Q/4v/u/+J/1z/rf/L/5n/oP98/27/nv9p/4v/1f/L/9v/xv+B/3f/mf9//47/tf+l/7P/0v+1/4P/i/+E/3H/kf+4/6v/jP+m/7P/oP+g/5z/qP+W/5j/2//n/6j/o//G/6b/qP/K/8j/0P/O/77/xv+5/6v/xf++/73/xf+4/+D//P/N/8b/xf+j/77/0P+1/83/3//1/wQA1/+9/+P/4/+j/7H/w/+Z/7P/4//d/67/sf/Q/73/q/+9/9f/wP++/87/tv+2/7P/w/+u/4H/qP+Y/5T/tv+b/6X/pv+Y/7P/tf+H/3v/cf92/6D/ef9n/5z/hP95/57/Wf8y/3z/Zv8n/xv/NP9f/1n/PP9R/2//Sv9A/1//H/8j/0X/Dv8S/xX/IP9X/03/Lf8y/xj/Gv9J/zD/I/8y/y//Qv88/1L/Yv80/zL/Ov8i/yr/V/9f/1H/bP9k/y//Mv9M/0X/R/8t/yP/Sf9F/zL/Rf9A/yP/OP8//0L/Tf84/0n/af9k/2b/gf+j/8j/sP9v/2f/h/+M/3z/dv+w/8r/fP+W/77/if+O/5P/Z/9k/3v/Yf9R/3v/nv+E/37/sf+m/5j/pf+D/5b/vv+o/5P/tv+4/7X/0v+x/47/fP9u/2//jv+Z/5v/mP93/5n/k/9u/2z/Wv9n/37/fv+R/4f/XP+B/5H/cf+Q/47/bv+J/6n/wv/j/73/xf/n/6X/o/++/8P/s/+R/6D/q/+4/63/kP+l/6b/pf+2/47/hP+U/7X/2//F/wgALQDj/8X/1f/q/8b/q/+x/7v/4P/C/57/tv/S/+D/2v/K/8P/1f/X/+j/8P/0/xEA4P/d/xQAGAAAAPD/4//b/9//4P/y/9X/xv/g//L/GwAGAPT/AADd/9L/0//F////TQA4ACAARQBFADAAIAAGAAwA+P/Y/xAANQAWABkACwDv/yAAMwAJAD0AaABSAF0AVwBSAFoAMgAwAFMAXQB0AF0AZAB8AFgAXwBVADAAJQA7ADMAQgB1AFIAVwBfADoAOgA2AC0AKQArADIANQAuAEIARQArAEIASABFAFMAUwBaAFcATwApAA4AHQA2AC0AFAA4AEsATQA2ACEAQgBDAFAAYgBSAHIAdwBNAEUAOwA6AD0ANQAuAEoAbQBSADUASgB/AHwALQBAAGIAXQB9AH0AfACcAIIAKAAlAEIAVQB0ACEAHgB6ADoAAAAOAAYAKAAbABsALQD//yUASwA9AF8AZABQAE0AOwAwAD0AOwAzADoAKwAbACgARQBiAG8AUAAwAC0AJgApAEsAYgBfAE0ALgAjADIAOwA7ACAAGwA6AC4ANgBFAD4AUABLADIAJQApABAAHgBaADUAIQBIAFcAQAA4AEoAQAA1ACYAAAAAACgALQAGAAEAPQBDAFAAdABiAEsARwBYAFIAagB/AIIAfwBYAFsAegCcAJ8AhQBwAGgAlgC8AKcAlACEAHIAfwCZAHkAYACHAIIAlgCMAG0AXwBCAIcAjACJAI8ARQAyAFAAWAAuAEAAaABbAFoAXQBSAF0AcgA2ADAAbwBTAFUAPgAUAFUAOgApAGIASwAzAEMAfABgAEoAfAByAHoAhwCBAGIAUgBsAFoAdQCHAF8AbwBvAEcASgByAIIAgQBtADMAUwBsACUAOwB/AHUAaAB5AHAAegCKAH0ArwCUAHoAoQBaAG0ArgCeAJcAigCFAJ8AfQA9AIQAnwBaAFUAWwBqAHIAQwA9AGAAVQBXAGwAagBqAHUAZQA2AEIAXQBlAFUARwBgADgAOwBVAEcAYAA1ABgAGAAbAFoAZQBwAJEAkQB3AFUAbACJAH0AbAA2ACkAUwBaAGcAZQBQAGIAVwAyADUASgAuACUAZwBoAGQAlABnAEoAbQBNAC4ASgBNADYARwBnAHoAeQBbADUALQAlACEALQA2AFgAQgAhADgAOwA1ACAAGQBYAC4ACQApAAgARQCBAG8AUgAzACUAAQATACsAIwA1AD0ARQBAAB0AHQA7AEAASABIAC4AMwAlACMAPgAlACEATQBYAGgAVwA6AEgALgAzAHIAdQBVAF8AUwA2AEIAKAAlAFMAOwBIAGAAUgBTAEUAYABgADMAOgBbAFgAVQCEAGUAdQC0AFoAQABdAFgAngCcAFsAYgBXADAANgAoACsAUABHAEAARQAzADgAWwBYAFMAUwBCAEMAOwBLAGIAXQB5AG0AZwCKAGAAXwBkACUASwB6AHkAfABwAHoAjACCAHwAigCFAJkAtwCEAIIAdABbAJkAegByALkArgB5AIQAlgCzAMEAkQCHAIwAfQByAHUAlgCeAJkAigCJAJQAcgB5AKMAgQBgAGgAeQCsAL4AnwCXAIcAqQC7AJwArgCvAMkA2wC7AK8A0QDyANAAwADVAOUA4ADQAOAACgH2AKkAuQDAAIwAjACaAKQAqwDqANsAdwB9AKcAvgCXAIcApACCAH0AegB6ALQAtgCPAIwAfABnAIIAdwBgAJ4AoQCCAIkAcAB3AI4AhQCJAH8AcABwAHoAegBlAGwAZQB9AIQARwB6AIcAUwB9AHIAZQCuAKEAfQCxAKsAjACfAKMAigBqAG8AlwCJAHcAgQB3AIwApADLALcAjAC+AM4AkQBqAJ8AyQCpAIUAigCRALMAwQCaAMgA4wC3ALMAzADgAOUA6wDuAOMA0ADjAN0AxADMAK4ArADEALsAwQDAAKsAuwDEAM4A8wDdALwArwCPAKkAvgC2ALMApAC8AK4AjgCeAKsArgCeAIcAiQCmAJwAjwDAANsAzgDJAMYA5QD7AMMAywDWAJQAqwDlANMAsQCZALQAvgCaAKwAwADjANsAwwDuAPgAAgH9AOYA3gDVANsAyQDMAPYAAgECAf4A8ADoAOUA4wATASUB7gDlANAA0ADuALkAqwDIALsA4ADhALsAxADeAOoAwQDAANUA2AACAQMB3QDbANgAyQD2APgA4AAKAfIA0wDdAO4A+gCvAKMAtgCuALYArADVAMYAtADzAOgAxADOANYA7gAKAd4AuwDGAJcAngDBALkAyADRANAAxADLANEA1QDYAMAAxACcAIIAuQCsAK8AwQCpAJkAWgBqAKYAdQBQAHQAngDDAMYAngCfALEAuQCcAHIAoQCzAIIAaACCAKMAlwCSAIcAjwCxAHUAQwB/AKsApwCPAJEAjgCxAJQAXQCKAM7/bv+p/2z/bP+R/5b/kf+Z/0//OP93/1H/bv+T/2f/hv+J/3n/cv93/6j/k/9k/2//f/+M/4P/cv97/3f/gf9m/2r/jv9x/3b/fP+B/6P/mf90/5H/hv9q/7P/tf+W/4v/ef+H/2z/V/9q/3b/ef9y/3b/Yf9S/3//fP9x/27/Uf9f/0X/NP9R/1n/Uv9J/zj/Kv9K/2n/QP8i/0X/TP9U/2T/H/8l/0r//v7w/jX/PP8f/0L/Iv8G/0//X/9k/1X/Yf9x/0r/IP8Q/1T/av9c/0z/QP9X/zz/KP9a/2L/MP8t/z3/N/84/1H/P/8d/zX/PP8w/x3/Df8n/yr/Iv81/1f/b/8v/9b+6/77/vD+/f4C//3+5v4I/yD/9v4C/yf/8P7P/gX/I/8v/wL/9f4f/wj/Bf80/wr/+P4O/wP/TP9V/0f/af86//v+Df81/xb/P/9f/1T/dP9U/0D/Pf9M/0z/H/81/1X/Wf9m/3z/V/9J/13/Jf86/0n/Jf9K/y//Hf8v/zz/QP81/1T/XP97/5j/h/+R/4z/cf9v/3n/dv+E/6v/of9k/3z/mP9P/yP/Vf9q/03/VP9P/2n/k/+L/3L/ZP9x/3f/Vf9E/0L/Sf9q/13/R/8//y//N/8b//j+GP80/zr/TP9n/1X/H/8y/0f/K/8o/1L/dP9h/2T/af81/xj/Iv84/0T/K/8q/xr/Nf8y//X+G/8G//D+GP8o/yD/Cv/+/un++/74/un+z/7o/jr/A//1/g7/+f72/uT+/f4G/9H+xP7L/uH+C//4/tH+sv7Z/hX/5v7o/gL//f4b/zf/Lf8S/yr/J/8Q/w7/+f4V/yj/Dv8C//3+5P7T/tj+z/7D/rT+3v7r/sf+8/4G/9v+2P7x/ub+EP8v/wL/C/8G/xL/Av/T/vP+4/7h/jL/Mv8W/zj/K/8n/0D/KP/+/ub+6P4N/yD/NP9J//7+1v4O/yf/Bv8A/xX/I/8T/wr/NP8w/0X/Sf8d/yX/Qv83/yL/V/84//X+KP90/3f/av9q/1r/lP+x/3H/R/9J/27/Zv9S/3L/d/90/3//Uf9d/3z/VP98/4T/Vf93/5j/nv/V//3/2P+c/5H/sP/Y//T/7//o/9v/yP/K/+r//P/L/9X/4v/Q/yUAMAD0/x0AGwAbAD0APQBDABsAJgAgANX/2v/1/+//1f/l////7////w4ADAD3/77/1/8LAB0ACAD1/ysADgD0/x4AEwD6/xsAJQD1//3//P8TADUAJgAoADsAcABdADsAWwB3AFgASAB/AHAAegB0ACUAQABLAFAAZwAyADIAYgBXAEAAYgB5AKMAtgB0AIkAlABCAFAAVQBQAH0AWwBdAHAAZwCRAIIAeQCrAJYAfwCjAJkAbQBVAHIAnABkAG8AfwBPAHwAeQCRALcAhwCvAM4AsQCuAKcApAC2AJ8AmQC5AMQAuQCPAKMAxACnAJIAmQCmAK4A0ADOAMYAtwCjAM4AxgCsAKsAwwDYAMYA0wDhALQAcgB1AHAAVwBkAKcAsQBvAK8AnwBFAIwAkQByAJoAYABgAJ8AXQB6AIoANgB9AJ8ATwBXAIEAlwCpAJQAmgC+AKwAfAB5AJoAswC5AIwAtgDwALYAlACcAMwArgCMAIUAfADBAJoAgQCZAHoAhwCJAIoAegCFAJ8AeQByAKEArwCeAJwApACvAJYArAC8AJkAqQCEAIUAjgBwAIoAlwC8AMQAlACRAMYAswCEAKwArwCaAO0ACwHhAAIB8gC3AMsA8ADlANAAAgH+ANgA1gDGAPMAJwEIAfgADwH2APYA8wDwADIBHQEFAQ8B9gACAf4A8gD2AOMA4AAPASoB7gDRAOoA5QDZAPgAFwH7AAUBCgEVAQ0B4AAlAScB9gDbAKcAywDVAM4A4wDbAPoA6wDLAMgAuQC5ALkA6wAdAR0B+ADQAOAA+gAFARABCAHWAOMAAgH4ABUB7gDlABAB/QDoAAoBFQEFATQBLQH+ABwBLwEIAf0AEwEaAT0BOgEcASABJwEaAQIBJQFSASwBDQE5ATwBHQEtASUBIgEoAUcBewE5AfIA8wATAToBJwEfATQBRgE0ASwBNQH4APYAGAEIAScBEAHzAFQBTAHyAO4AGgEqAQ8BWQFXARMBSQExASwBHAHYAAMB/gDjAO0A8ADlAMYA5QAPAQIB1gDOAAABEgEXAQUBBQFBASQBLAFHAQUBIAEoAQoBFwEQASQBLwH1ANsAGAEnAS0BKAEaAScB+ADrAPsA4QDeABIBJwH7AA0BIAEcARMB+AD4APMA5QC5AOEAAwHwAA8BuQChALkAlwCpAKkA2QDzAM4AuQDOAPAA1gDIAKwAlwC8AL4AowC0ANgA2AD2AP0A+AACAckAywC8AJcAwwDWAOgA4QCrALEAtwB8ALEA9QCvAJ8AxACjAI4ArgCUAGwAYAB0AJoAnwC7AMAArwCnAKEAmQCOAJkAlgCsAKsArwDhAOEAswC3AOoAtwCxANAAkgDJAPMArAC8ANEAtAC0AKcAnwCcAHUApAC8AIwAtgDLANgA2wDAAOUA3QDGAO0A7gDGANMA4ADMAOYA0ADDANYAwwDbAPIADwEPAd0A+wACAcYAuwC8AMQAuQDMAAsBzgCvAPsA2wDGAAMBywCrALwAowDQAM4AwwDWAKkAzADLAJYAzADEAMgA6ACrAMgA+ADjAOoAyQCuAKkAnwDEANgAvgCvALcAsQDMAMwAlwCeALkApwDQACwBCwEFASQB6wDTANkA6gAVASUBKAE5ATEBHQEAAfYA8wDzAAcBPAFjAR0B7QAVAS8BFwESAQ8B+AAPAf4A3gDZANYA9QD2ANkAtgC+ANsA4wACAfYAAAHjAKsA3QDwAPUA7QC8AIwAYACeAK8AgQC5ALMAlgCZAIoAwwDQAKsAuQDDAIoAcAB/AIQAnwBlAE8AngB/AGUAgQBqAHkAdQBqAIwAZwByAKYAhQCPAK4AhACnALYAoQDLAJ8AeQCRALcAngBwAIIAngCeAFgAZQCeAH0AbAB1AKsAnwBCAEMAeQCFAGcAaABHAFUAigBHAJQAyABoAHAAeQB5AIEAegCXAJIAPgA7AHAAXQBlAE8AfwDZAHQAeQDZAJ8AbQBtAIIAjABbAHAAegBdAGoAaAByAEoAMABiAFUAKQArADYAVQBSACEAUwCjAIcAVQBfAFUASABtAF8ASwBHAFoAeQBQAEsAZQBbAD0ALQBNAGQAOwAhAFUAZQBoAF0AXQCJAEIAIABsAHUAQwBLAGoASwBHAFsAWwBYAE8AVwByAHIATwBaAHoAfQBqAFsAdABdAEcAUABYAGwAaABVABgANgCfAGgAagCSAHcAtACHAE0AhAB5AIoAkQCBALEAkgB1AIcAggBdAEsAdwBiAEMAbACSAJEAVwCJAN0AegBtAN0A4QDMANAAxACfAJoArwC0AMgApgCcANMAwwC3AMMA4ADtAK8ArwDIANEA1QDOAOoA8gDQANMAAAHYAL4A7gDlANYA0QC+ANEA7gDgAMEAtgCaAKsA2wDtAPAA4QDLAMEArwCjAMgA4QDjAOsA5QDVAI4AXwCeAKEAlADJAMgAywDOALwAxgCmAJYAnABgAHkA7QAIAcsAswDDALQAqwCsAJwAkgB0AG8AcABIAHAAigBtAIEAagBFADMAKwBFACEAAwBlAGgAIQA2AEoAbABLAAQAAwAIAAsAFgAmADYAMAAZACUAGAAWAB4AEwBHAEsALQD4/w4ARQAGABMAQwAwABsA//8mAGQAEQDy/08AQAALABMAFgAZADUASwBHAF8AUgAwADsAFAD0/wwALQA7ACUAIQBDAFMAHgD0/xsAJQAZADMAGwAWADsAMwBPAF0AJgAtADIAFgDw/+z/QAAmAAAAGQAlADIA7P/g////2v/D/8j/zf+z/7n/4//f/+j/w/+r/+r/3f/A/+L/HQAEAOX//f8JAC4AJQAUAB4APQAzACUAQgApAB0ADgAZADIAFAALAAkA/f/n/9//7P////j/6P/i/+X/DgDv/8j/+P/0/9L//P8IANP/4v/6/9//5//w//f/7f/I/87/4P/t/8P/oP/O/+X/4//o/93/0//X/77/wv+5/5j/0//o/67/pf+t/8j/vf98/4P/rf/C/8D/oP9y/5j/q/9//7H/rv+H/4z/g/+o/6P/sP/L/4z/m/+W/4b/wP/N/7j/i/+g/7j/pf+x/6v/jP9y/6v/s/+D/4v/f/+p/8r/h/9v/4z/cv9u/2n/Vf9J/zz/fv92/1n/Wf9J/1r/Tf89/0D/Pf89/2z/Zv8d/w7/L/9X/1n/IP80/4f/VP8V/yf/QP9P/zD/H/8a/xX/L/9F/0r/P//+/vb+NP81/y//Sf8t/wX/AP8t/zz/8f7z/jf/L/8Q//7+9v4i/wL//v4i/8z+zv71/u3+3P7e/gD/I/8w//H+6P4T/w7/Kv9k/yj/CP81/yr/K/8d/x//IP/+/gL/+/7+/gv/E/8d//7+AP8W//7+AP8D//3+Df8T/xv/IP8b/wL/CP8v/y3/Qv9P/xD/C/8f/xX/QP83/wj/Lf83/yv/Mv88/0//Mv8K//X+/v4T/xj/Ff8Q/yX/MP8a/w3/GP8Y/yL/Qv9H/xj/Df8q//j+4f77/gr/5v7P/gb/A//t/rn+kv68/rz+sv68/tP+7f7B/pr+yf7T/q7+wf7Y/u3+z/6V/r7+2f66/qn+zP7u/tH+rv7B/uP+v/7E/vj+7v4F/xX/zv7M/gj/8f79/vj+sv7p/gv/4f7W/qb+mf4D/y3/5v71/gX/+f77/tz+y/7T/uD+jP6k/hX/8f7k/sf+f/6q/rn+ev6R/rL+pv6U/nX+ev6a/oL+hP5g/jn+bf5v/mD+U/5F/lP+bf5F/hH+Pv5N/lL+S/4m/kP+K/4O/k3+OP5D/qT+YP4U/kj+Y/58/p3+lP6c/pT+fP6m/rr+rv6+/qH+h/6v/qz+sf6+/rH+tP6N/oz+n/5t/lj+c/6F/pT+d/5d/pT+mv5z/oz+cv5o/qb+cP5B/k3+M/4e/iD+UP5D/hb+/v0T/jb+FP73/RP+O/7X/ZL9wv3p/fr9xP24/cj9yv3Z/dT9x/3f/fT95f0P/jP+E/7v/dr97/0B/tn94v30/fn9Uv5B/in+Tf5D/mr+d/5r/mL+aP6Z/rH+qv6P/o/+tP7o/uT+kf5j/nL+n/60/oL+kv6V/mL+jf6E/l3+Uv4u/j7+Tf4p/tD9zf3u/cr9vf2W/af9o/1z/Wv9U/1k/XH9Vv0+/Ub9PP0E/SL9aP1b/fr80/wU/Sr9LP0Y/Rf9Zv2b/ZX9e/2F/d/9DP7Z/ff9Nf4w/l/+iP53/q/+vv6a/u7+/f71/jD/P/9U/3n/if9U/zr/V/86/0X/bP9p/5T/gf8y/zr/GP/g/uT+3v6v/oz+a/5b/iv+zf2r/X79W/1W/S39FP0N/fr89fzb/MD80fyw/Jb8gvxc/HT8j/yP/Kz8tvyX/LD8ofye/Or8Bf0k/Sz9Ov2F/ar9s/0E/l/+jf7M/vv+G/88/4P/1/89AKYA0wAkAVQBNAFaAYEBkwHiAcIBkwGqAX4BbAFjATkBAgGxAG0AHgC4/3T/T/8o/8f+S/4P/tX9dv0N/cD8lPxI/PD7zPuy+6D7lftW+zv7KfsP+xn7G/s0+0P7Zvup+8/7Dvwe/DP8dPzA/C/9ZP3A/Tn+df4S/2T/av8BAJIA6gA3AXsBzQEPAmIC8AJ0A6QDrAMHBHEEhgRzBHgEmwR2BGAESwTQA3ID8AJVAr8B1gD//2T/x/7Z/Sf9l/yc+/f6m/o0+qz5Wvkr+eT41Pid+I74qPid+Nz4OPlY+WD5rPk9+rL6EvuI+xP8o/wn/cz9W/4G/6X/6P9gALEA+gC2ATwCcwK1AgADYgPgA14EtQQpBdsFNQZcBrMGEgdQB2YHXQc+B5MGVgWbBJMETwQyAxICNQEUAGL/7v5w/qj9k/xa/Ej8ivu/+lH6MPrm+WX5G/kz+Rj5zfjk+NT4oPjz+ND5svoG+yP7avv++0f8P/zR/FH9e/2z/Qz+Vf5f/r7+G/9y//f/bAADAZkBGwKCAgUD0wNuBNkEPQWXBfsFZAb/BrkHKQhXCKEIdAh+B8oG+gYkB0QGEwX/A7UCxwGjATUB0v9l/vL9If6D/Yf8C/z8+9z7bft9+5T79/o8+hz6Evp8+RT5gvl2+rX6ZPqO+vr6Vvu6+1T8uPyf/Kv8Qv3X/aj9dv33/Xz+rv4K/2f/sf8zANYAowFNAuwCrANMBCAFzgUvBtgGgwf7B3UI8wiOCRsKLgqmCeAIYAh8CFcIRgdmBowFCATwAoAC0AGFAEL/3v7M/hP+Ev2H/Hr8P/zf+9/7t/tE++f6q/ot+mD5DvmP+UL6Y/oi+kf6pvrd+hv7evvJ+0z86Pwt/Uf9H/1M/ez9IP5D/pf+z/4O/4z/JQC3AHEBGQLMAp4DaAQmBcYFhwZOB60HPgg0CdcJbQrjCvQKSQokCbEI1QjmCOIHhwZaBb4DrAKCAiMCdAAI//X+ov6B/V38G/xK/LT77/oB+2P7Avth+lz6HPor+aP4WvlJ+kH67fkw+nb6hPoh+8n70vug+yj8Vv2q/fj82Pyt/Q7+Nf6A/sn+Uv+D/9v/gQAKAZkBWAJ0AzoEzwSdBVoGRAc4CKwIQQk4CggLkQu2C9kKeAkqCXYJKgk2CDcH4QUpBCsDxAIeAokAMv/+/sP+3/3J/FL8Jvys+0D7L/tB+/L6rfrd+sL6y/nk+IT5hvqL+qH6HvtB+8v61frG+x38vPsO/ND87/zz/Pr8DP2V/cr92v1L/qT+GP+b/y4A3QBfAQwC9ALlA7gEnwV5BjMH8QfICKoJZgoSC5YL/At0CzAKnQnHCfEJNQkdCNgG4QR2AyoDqgJEAff/m/93/43+P/2H/DD83Pt7+0b7l/ty++L6/frt+jD6jPm3+Yj6+vr/+oX77vtw+zz7r/tU/L380Pwv/X79TP1b/Z79zP0O/lL+1P44/4H/4v9CAPUAwgFzAhoD4gPKBNgF4wbEB6YIQQnlCd4Kuwu6DEsNgAw1C5IKlwqICvUJ6gh2B7YFRwSPAzUDLAJyAMD/tf8V/xb+HP2p/H/8G/zm+xH8BfyX+3b7qvsJ+xX6V/o0+6D7t/sF/Iz8q/wt/AX8ZfyW/OP8dv3l/Y79HP1s/eH9G/5T/o3+v/48/5z/yP9PAB0B1QGFAnEDLwTsBNwF4gYQCPgIqwmkCsYLoww4DTgNIgypClUK+wrhCuAJgQh7BnYEpAOHA5wC1gDT/7j/V/9d/kn9u/w//J37bfua+637WPv/+hb71frB+TP5Ofo2+wz7M/vK++b7z/vX+/z7Bfwb/Ln8U/1o/f/83fw6/Vv9pf05/p/++f5k/7v/CABkAAIB5AHhAtIDcwQkBUIGcAdnCE8JSwpkC3AMWA3HDfQMggvTCjcLXQtYCjwJvAeUBQcEmwM9A2sBwv+h/9L/K/9+/Yr8jPzc+zH7gvvj+437+fo5+4X7dPpG+bH5EftY+yv7Dfx3/A78EfyT/HT80ftH/HP9zP05/dP8If2b/Yn9cf01/s7+A/92/9D/PQCuAEQBWwKcA3ME1ATcBW0HeghRCUAKOgspDAkNrg0tDesLMgsqC4kLWQs2CkIIpAUABN4DfwPgAV0A9f+m/+3+B/4H/T38qvsm+1H7/Psj/GP7//p7+9r6nvm5+b/6cPvW+4780fxc/F383fxB/er8avxH/Qf+yv2I/R/9Ev2G/eL9Wv6Z/pz+Rf/w/1AAwAAiARYCiQOYBCQFAgYZBwEIPwmICtsL/gz5DPULygoDC64LkApwCakK7QuACewEfQKFAh4C9gAdAZgB4QDI/0z/NP+z/fX6E/r2++/93f1l/Cn7bPoA+nT5HvkM+V/1fvKa+LL+bvsC9r335f3e/gv8evw9/4oAs/+3/q39d/zr/Av/owCu/9z9z/67ASMDqgKEA6YGAgkZCr0LuQ0eD+YQpBNvFbcVmhKUCLr9vf1nBZ4EIfvb+RICpANw+xf2mPdm+D35KwAmB7EFSwDo/+oDeAT6/+P8CwAuBRMF1wHI/yX9mvhB9qj48vkW9xf2r/j0+Ib14PLf84b3UftX/Yj9EP15/OT7OfsC+w771/oR/Kb+7f5f/In6uvu8/g8BiQMhB2UKywtYDNMO+hG4E1cV4BiCHbEg9B7UEb77Te8z9z4CLv4h9kf6XwHJ/Afzw+8H8HbyLf1vC/QP0QgpAgADigVhAy7+TP2ZA5kJEAiRAbj6AfT67+7xGfZR9wj3uPjp+Rb3s/Ir8S31Kv2oA0IE6gFxAej/l/sb+T/6c/tA+xH8vvw4+T30hvSP+bX9HQDXBMULLhDuEAoS7xSvF8oZyhtuHz8kYSjeJJoNa+jd1VzoIP8G+V3sbfavBBL/nfKR79/w/fdSDWEhlx+qD7wEygJJBFgCXvoo9rb+iwkzBTb22uuB55Tnyu/7+VP7dfnX/W4Bf/tZ80DzrfskB9sNCQoYAXn9R/3P+EbzAvWc+UT6J/qV+mz3VvI29QkAdQcFCTgNIhaVGtwXRBYzGxQhtyLxIrQlsyshIn74rciZwofnOv3D8YruWgBOCjsAGPeW9Wj20gZqI24vciLUDE/9WPgO+6T52u9k7/7+mgeV+8TrCeas59zu0/qJA34DcAJOBWsEPfrN7avt3P38DpwPzwGv+A/6ufla9BjxiPOb+JH8nv3a+KrwXPCP+1IIfA27DVYSWhtHILQcHRirG9Qh2CLoIBQkpypIGFngI69iubjq+P+i9VT4gwySFOQJTv7G9/T7WRQ4L24xeRvq/wnun+vY8cXwBOkw78kDcAyy/XbrzObZ7vn7ZwbpCWwGywOeBN0A8/T/56rowvsZECsSFgMt97D43/o09Yfv/fG1+GD9D/5o+ffykPOG/zoOOxSsE/QWuR84I2wbBRaDHJEjOSHMHAomnSmhAZy/VaFzxgj8ywZo/boG6RlSHeANmPrZ80ADxB/lMPQnwgxy78LgMOb97lzsg+vk+wMQzRCk/t7squhA9NID8QrjCM4DGQJ+//j34u0z53vudAMWE1oOeP4v94z5Fvkg9LLwlfIi+AD9dPx597X1xPvnBzASYxWeFTEZXx53HZ0XpBj2HzAifR9SIK8qyyI46Y+kmZ2r2M8KDBDdCAIOTRukHwEP5fLv60cInyqXMpgesP054WfaK+ef8MTupfMOBqcV2RKQ//DqI+Z/9iAIswvEB1kCgf1C+pv0jekN5YXz5AmyFpcSlgGl8+XxafSM8ufvdPJJ+Mj86Pxg+Tz3MvxXCYwWwxrIGKMZRhzIGDsUeRiQHkoenh2nJFEvoRtt1taV858d5E4S5hV5EPMT3R0iIPcMzuwt5Y8FDyzCM7QaJ/Wn2b/YU+kh8VLuQvcoDnUcdRQz/vLoa+P08hQFQgk3BwcFPv7W9nLxcukj57P3mQ1PE9oL2wCX9pvwHu8+7hnuk/K++ST+Gv3h+X/5Gf45B5QQbBW6FpsYKxqLFyoUyhb2GhIbmxwSJEYyiCrt6buYi41n0rUPExphE08U1xydIfESbvDL3Rz2ECEuNaYlEAGD3qfUqONR8IPtzvEYCUQeDRzNBvrtaODF6Oj6WwWlB+wHRQOm+r31yu3X4uDpEQUtGDQUfQWf+PXveuwR7PTrEu8S9x4AxwI5/r/4hfhwAHEMFxSKFfwWYxntGG0V2xPwFWkYOx2DJGMvCzMoCdyzt4JjrkH7CRrwFnkY/iGWJuMaAftR3R3lcg3ILZsu4hSj75XWQtrY6Rns3uv9/rwanSS+FVD74+S44C3tb/qCA5oK+wxnBSD5C+7k4hDkvPi3D7YVgQxxAWf3ze8Q6p3lweng9rIC8gSrAK/7Sfiy+r4DTQ3dEeoTnBhGGmMVURKNFfMYmBkuH54oaDQXLvHuNpa2ghzL2Q/mFxEQ9xstLvssbxCk55jWzfCaGWMsDCSxCsfqDtmf4H7qU+ZW65gHuCP1JVAQLvQt4qTkuO+T9en9Rwx7EagHmPj56EXfvOhgAEoQxhC7CSUBO/jU7hXk8N5v6Zf8MQd9BUIB8/4R/Eb7AgGqCREQ9xT7GMcWHRDlERccWh7aFi4YxyesOh0xc+rDjz+B7M4iFEAYswvRGCoxjjPNFH/mKNHs6xoZvi0TIgMGDOnm3HLmbOwt4mTkaAT/JmErVROY81/hFOb672nyLPhrB/oQSw1AA/fvRNuG3cD3uQ1YEj0NaQQD/PTywOUi22jgFfR4BSsK4gZzApb9Y/o3/QcF6wtcEToYLxuwFhsS9BEAE/UT8hvUKdU4CTgmABukAYB2u3oCfg5TB5YYtDSFOncd/+w00BrjSQyTI8gg+g5b9j3lVec+60bgltxX99QdPS1qHc/+C+er5EPswO1N8R0BKhAiEaMJ9vtv56ncCeuWA3YOPwlNAoL+4Pd37Czgmt737KP/qQhSCDcDyfyh+e/6Yv+cA2IIxA9hFx0Z2RWTEbQNzQ7XFh8kpCzRNCU1WwJdqQeDV7ib+iYL3ApjGZ8vvDdaItjyltBZ35cH9B9XHgQPMPqU6WjokOrA36zZMfG7GCUtFCF7Ac/mpuQo7oXusO3r+XoKQhHrDSkAte3m42PpA/knB7oHJv4//JX9I/MU48rdI+dq9yAFeQn7BeL/G/wa/ZD9hPrS/dAL9BdRGaIVrhCDCnILAhY4IvAn2y1tOlclWdP0hqyUXd7XBmgHjQ3xJHo6MzUmCtHWd8+f82UV5hyIFDoGkPXo7Lbq++CE1LzeRAQMJ84qAhJY9NfoHO4a7ezjsOit/3kTfRUWCnH3kOp17lD0hPSi+W0Axv/a/Zr79+w23m3j9PIj/Jz//QNdB8IE+/yp9v/1wvhPAIELdxADEY4TahJSC+0LlRm8JCso/irUNHovTvPVndmGXcJj+00FWwcwGpYzczv0HhLr7c+J5GUHARiWFjsNX/5G8IXrp+ay2APVkvApGUIrYR6MArbuR+2v7p3lh+Ea81MMfxfaEecBXfEl70H2OfXo8fH2S/4kAVEB6/b94pXduevZ+e/9RQAGBUkGDwH6+fL1HfX++H8DPQ1uD0kRKhTJD0sI7AzUGpgjXCgnL5Q7KTIH7qGXnYdaxYL5GgGHBWkcVzihPeEchuisz9HjlwNfFtEa7hLn/wbv5Ov05nfWktGq7RAYQy1RIY8D0u9H8C/wY+N/357yRgpiFdITjAZ89Ivv//dC+WLyn/Nk/GwAz/178/fiAd/a7W37S/09//EEGAaBAVf6IPSZ8rz2J/+vBxoLmwsjDT4MDQm+C/AVWB8tJmgsjjAHNpwqhe3lmqKHKcTg/BIEEP9dEsUzlz96INDpV8/T5B4IjxfvFIsMn/6B8YXtoecD1xbRdutDFAQpzR48BMLyFfTx85Lk8dsv7VsHWBVbFEAGCPVs8jD3xvMm8MTzOvoHAVcE+PZe4JLbX+ql+PT7xvuhALYIuAgF/Z7xjO4B9Cj+GQT0BKQIKg4lDPEFzQg9E5IcKiNsKWUsmS0NM/oejteNj4uV8daT/N77OwKKHd444TnmFI/h7dIy8F8OphWgD3gFyfhr8qbxLuYG1G7VmPPoFiIkiBZ5/9P2XvoR8yHhFt9u83oIwhI8EX0EpfaD8sH0/vV790L3a/Wr+Tj+OfU65HTfz+qr91j+WgFdA+sCKv95+rL1/vEv8636XAEyBE4HLgjdBK0EhgzSFBYa1SAnJrwn/CdIMGYzCgQbrVyFfbZy87T7M/NsA7YobEIGMyz+w9X24J0CPRIRDcgD/vvL9pL4HPY244HPy9fR+5sbWR8sDJb6xvu0ANryXd7z3zP2AAuTE3oNFv/N+Kn7evid8B/w3POw9aj6S/0l8T3iWuTv8qn7gvuB/BAB3gPWAH35d/K275/0WPz4/u//GgO5AzEBYQSHDXsUnBgFHp4jcSQyI8Ukui8RMlsAa6yVi6q85PKw9wPvfACsKKNF4jajAbHas+UmA7EN8we2ATf9a/os/ZD4TuG1yxvUl/gOG9wiHRBW/UIA8wWO9YfeBt+U9K0JZRM9DhIBlftF/43+EPXp6xHsVvVj/qn8tu935BzolfXx+6/4Qfi//uwEEQWl/d70jPLv9cT55/ue/f79u/3X/4sGww4PEi0T9hduHi4fhBvlHeMlojLgNugN+L7jknOz1eSk7lPpl/kQI85H9kLpD6fgXOKL/RQJ5QGx/LH+TAGDAl/6WuRvz3bSOfDQEBkdzRF6A+oG2gyj/BjiUNwu7pUEuxHPDp0Cff2IAu0B5fUv68rqFvRy/7YB8vVw5orjTu6I+Gn4/vWi/YUK2w1yAx31ke3D73H1L/iY+nn93P2N/lQEuQoXCsAIRxAFHBoh4R2oGVkbgSMTLUk3BS6K84WnIpWJxf3sCuob5lwBOzS6VHI9Fv++2TrqNQV1BZj4ufeyAYkI0gYh+Bvf2s351UD0aRG7GYUNQQUeEIUUAv054FbdWPGJBkcORwaX/r8FVg5SBur1Je3J7JTxDfrJ/LjyVeaO6Db2//2c++j3YfwQCJoNXwOx8+7uQvVF+sf4u/fL+vz9nf4sAaQF0gZiCHIQURtRHwYblBZsGHweSiNRJtUx3TZVCq64UJL0uMzmk+pY5CL6jy3LV1lLjQ0V4PfnDv7U/u729fnHAiEH6QfiASTuotQ3zTflfQqBHYMTegc0ErMd4Qqp58/Ztedr/rgMaworA6kGPA4wC7kAyvVs7PPrOPbU/jn6iewy5YXu+PxY/ij3hvdTAlsN3wzY/4Pzx/KA9vL3e/tx/ez4B/Yi/YsG5QbZAj0FtQ/9GI8aohmyGTwZhBh5GSMfOCrUOh43t/42semXdsAS5fTjGuPUAXE2T1i5ReAJS+Ca6EP+X/4Z84bywP15C1MS3wd97KnSKtBH6BIHOxXUDeIHfxUOIFMNbew43m/nKPm5BZoFJgI1CYISLw78ARr4LvAT7CTwPvbj9Ifuyuvl8bH74v1z+KL2T/1UBnAJZwMy+sL3APre+YL4zfXv8ILwovktA6oEsAF2ASoJvhPOF0sUHRCTERMWAxg5FYoVfyCHL9E86S808AemhZtkzNLqROUQ5DIB+TaSWt1AK/7y3LLuNwH5+pjt0+40/wsRuRUKByXsqdS70v7pCga0D/0FCQOuFVkk4BLW74nfrul2/RcGg/20+LQHNRjAE2cDbPXz6+7r/PIA9RzwJe2r77n28/7j/MzxDfCJ/QYLhQpDAPP57v1JAV77XfOx7sbsn/BD+/UBuf+4/VYB7gd1DGwL+Qf2CsQUHRttGNAQfQ+nF7EgRCPpJ/cxsBz32qimJLRa3v/nYN5y550ODz8WTeAl4/MN7Oj8lvw88NbuuviGA6UM6w8HBWDuR9rH2c/uXAT1BW77JwKOGdggOQ1U9bTsUfIY/bv/Svms+wkKHBH3C+EFlPzJ7jDqQ/Hf9VjxWOuW7KT3ZQO4AaL1IfH7+xYI2gdTACf9q/9IAA7+J/qB8UXpCey+947/6f6K+3z8UQTCDC0NMQcqBsoOshfKFgQQgQ7SE8MYuxs9IKAmVy0kIRbxMbzhtDnTm+I73tPiXv1tKGdFujRQB6nxx/otAOv3q+8y8HX5RAclEJQLSvqZ5UrdPOis+NL9N/ie+isNKx1sGKEFUfiN9nP7G/5z+FT1tP5rCioMugcXAmj4i/AX8Bfy1vGX7oTsQPHs+zwBb/xZ9yv5rv9ZBKcCnf1Q/Cn+A//V/bD3cO096e7wQPuQ/QX6aPj9/EIGBAx5CDACZATGDWsUzhPsDtIMkg8uFKgW+haAF8caPCZxKB8G8s+cudPPc+VO5YviK+9kEV01yjZcE+n5d/5DAx/6v/Cu79HzVP2ECWkOZQfU9lfn9+fc9W/8nfN97rj8eBHaGdQSNAfLAfsDegPu+JbvFPPw+38AHAXDCRMGhf3g+Sb5pfVf773on+hh867/NQHi/Pr8XP8KAVEB3/2h+fD5rf1HAED/1/hv8dTxX/dN+dT2HvSS9l8AoAnuCAQECgYdDJAOIA3IC8AMiA68D4EQvxGdEZsR9RZvIFIoAR8B+8jSR8qj3dzmReG44OTwZxEjLc0pYg5dACYF+wMk+gnzMfDr8RP8pwikDZAHe/gq7aLw6Pms+UvwDO2g9/MIsBO+EIQIaAV/CCsIeP5Q9NDy6Pbd+qcAKwWkAi7+7v0n/9H7y/QQ7Z7pN/D++cD8rPmv+fz9pwJyBdcBI/vF+ID7Cv+J/8L6EvMF8kP4hvwE+4f3xPZO+4sDewfCBPsC4AWMClwOCBDaDpAM1wx2DzkRug/CDAMQKhkKI8MmoRZb9dHbOtz/5Wjk+N7C4NDxXRCpJQceegoSBz8MJQnk/o3zdu2z8tv/YAgBCKoCV/qn9qT7QP5n9r7sH+6i+HIDhgnICQMJzgvbDmUKbABH+vf4v/jD+eL8fv+Z//f/NwH2AOH9ofcD8Y/u3fH49k/5evkh+xL/awKpAzkCW/4z+5/7Rf5w/TL4L/Ur93P7Nf5p/FP4sfel+/T/0AGIAs4DGgaECdcMkw5FDjgNXQ14DwoRWw/yDB4PKhZEHOQfxhv9CJPwn+Sm5/XnSuGb3bvkb/rhEnAaBxGKDNgRZRANB6r+1/eV89f10PzIAfkCfQDe/Kz+XgIj/4b1CO9b8Jn2wf6rAzMFvgizDkERcwzwBWEBq/yB+Sj6zPt8+p75+/sY/zEBpf9L+334mff29e7zJvMH88f1tPx7Ar8E7gWEBakCaACu/uj5RvVU9R/4rfoy/Hn8cfzv/fj/5QD6ASMDdAOPBTQKOA69D8QPExAsEVsSTBEwDngNYRFMFucZbhxAF2EH8vVJ7i7uneqf5J7hq+eJ+UMMgBJcDgwPdRRCE70LDgMf+yP2GPdQ+5/+MAA+/iP8QwAlBlEEyvs09Qn04/fV/er/Ff+FAgsLABBuDiEMYQmHA5X9kvtz+w/6hfij+Kr7VQC/ARH+8PnX+Fr5OPkM+G73Fvks/S0BIAN/Ax0DpwIzAiQBTv4k+qP3Rvir+pz81vz6/Jj/MwPiBCkFHgUtBdAFqAeiCoANXQ+1D0gQZhEQESAQ6Q/bEAETJxebHPga9Az/+svxavEG73jokeIK5d70ogcVDqUJ8QqnEokTmg2ABz0BAfuf+UX8Nf5V/5H+FfwZ/oYEwQUw/6z5ivje+B77Xv2o/VcAIgcICzEKMguGDJcIuQIhACP/Sf1V+675+/mO/e3/A/6k/Iv9P/wg+b73vfen+ET7PP0r/pEBhAU1BXoDqAMjAmX+bPxf/M77v/qW+vX6UvyD/7sBjALhBLAHDwkJCrcKnQreC08Owg44DlgPbBBFEFkR/BMUFdAV9xjSFy4Nfv8N96Tz2++N6+jnG+m388MApgZrB64LgRGNEQYOKAsXB6sAI/z0+5j9IP+R/pb86f0VA7IF7wFj/XD73/ot/A/+tP7b/2UD6wWwBvwJwAzSCZ8F9AQuBPsAf/5f/O35mPrR/Jn8/PvJ/Gr88fqU+zP8wvo8+kb7If2FAPcDFAT0AuMD4gNSAW//GP9M/c/6Evsw/Cb8wfyF/v4AqAQbCHcIJQj4Cs4NGA5QDZYM6QxPDm0PEg+iD78SBhUsFkgYpxc5DwsDhfux9xTzUu5W6hfqVfGn+0oAewHFB1YPoxBpDhQNewocBY4AHP7m/GH9Kf1V+0P8EAFkBBEDzgDF/yL/NP/B/nv9z/0YABcBPQHNBP0I+ghZB0QHHwdrBVcDeQDl/Gb7SPsg+of54PrC+4r7Wvw6/YH8lPuF+wX8Jf2y/vf/IgFyAnoCiQF8AUkBd/9O/Wr8DfwT/AL9uP1V/iEA2QLABDIGmQifCvwLgg1mDq4NbAxxDPsM3A0rD6UPTRDwEoEWMhagD3wGUf+K+933efL17J3qjO7E9Rz7mf7qA/kJNQ17DuQO7Aw+CMgDWQE//079mvtN+aH5nv0CAUIBGgHnAZEB6wDeAGIAPP/Y/ub+8/5uAbAEAwVgBAsG5gfNBhQFCAREAeT+w/57/dD6C/pR+jD5Rfl7+wX8Wfs6/Ez9hv1S/nz/s/8IALsAVQBCAIQBnQFK/9X9Of61/eP8Mv3C/S7+1f8jAo4DYgWbB/IIgwoGDXMOww2iDDYMlQyHDfEN0Q2YDkIRAhTsEooNnAYaAXv9xPmj9M3vXe5r8H/0YPgT/FQBDQanCP0Kaw3qDNsIoQXLAycBof5P/FH66/nS++/9U/5f//YAWgGEAYICtwI6Adf/pP6u/uYAXQKJATwB/gJpBLcEQwUMBRgDPAHI/+T9hPx2+7H5evg2+Z36PfrN+Hr5Xvuh/Nr9+/4bACUBWQHjAPMARAEbAPT92/w6/aX9jf3u/az++P94AY4B4gE0BKYGmgdyCFEK6AuvDOYMbgwkDIEMkgzuDPUOsxGvEnEQ+gs2B1cDZP9U+mj1F/Le8GjxCfOa9d356P5WAnYEmgdOCjwK8gi6B64FjwIlADD+Dvxj+/j7C/wl/On9J/8d/0sAZgFPAVwBbgHLABYA4wClASYAbv9sAKwAXAHhAggDOAJyAqUC/QBZ/6H+nvw5+hD6Y/oZ+Tb4zfhL+UX6Yfyq/Uj+7P+EAYYB8gDGAF0AmP8f/4X+q/2j/fr9Kf6q/jz/rv+3AKACWwSFBfQG1ghVCrIKuQrXCq8KLwvbCw0MGA0ED7gQ2RCLDlUKLAb+AsX/5PtR9y30mvM79NP0UfX09yX8Ov89AUQEpweHCNYHcwehBv4EEQPDAG/+8vxi/Mn7avtP/Ff95f3Y/ksAXgERAk4CiwEnAXQBwwBd/wj/Yf9y/5H/LgAFAYkBwAEPAT0AowCxANv+tPzk+5L7qvpy+cf4z/hq+Sf6BPu0/GP+Sf9//8L/hQCxACgATP9a/kj+Rv4e/nz+of6s/hr/WABDAjUDywN0BUEHfQg5CSoJ6wiJCV0Kxgr5CkwLVgyaDV4Oog35CroH5QSVAhAAzvwB+Vj2/PXv9UL15PVc+MD60fyU/4ICvQTUBTwGNAaHBZUE8wLTAED/I/7e/Av8P/xa/E38B/1T/qn/9QC4AUYBLQHDASoB7P9J/x//vP53/sP+KP+Y/+f/0/9y/3L//f+T/07+kv0Q/SP8F/tH+pn5YPma+fj58fpY/Fn9m/2d/fr9iv7P/uD+kv4e/ib+S/4k/hz+Hv4c/g3/agBGAdABgwLLAxMF1gVqBuMGeAdVCP8IRAlKCYYJBgqtCo8LJAxCC48IIwa8BOECxf+g+0v4Jffb9uL1efWv9ib4OPnT+mb9FgDaAcwChAMNBGQElAOIAQQAZv93/u/89vvB+8/7G/yB/BD9+v34/jr/Iv/V/4kAOwCr/1//Bv98/t/9Vv3//Cf9Pv39/Fz9C/7//VP9D/0q/bT8DfzJ+3L7tfpM+j36Nfp++qX6m/pg+6b8Of1X/cf9bf6u/h7+ef2L/aj9xP0L/or+5f+uAHUA1QD3AR0DCATNBIUFUQboBhwHRgelBwQICQgzCBUJ6QkzCp4JJgh/BiYFwwM5ATv+QPwf+6/59ff79gv36vd1+PH4nfp8/N/9hv8xAQYCcgLRApUCCgJEASYAx/54/e38YvzJ+9z7QvwU/RP+kv7p/m//yv+l/x3/+P4w/6/+G/4r/iH+7P2a/QL9tPzg/JH8vPtI+277pPtZ+w/7Uftu+0b7Tvtr+8f7OPxt/LD8W/0M/hP+rf1R/TL9Wf2a/bL9s/3c/Tn+mv4o/ykAFwH9ASADWQRfBfAFoAZLB4IHRgfTBsUGLweoB/QHZAgHCTUJGwg1BsgEJwQwA8AAWv4X/eT7a/r3+FH4tfjB+I74j/lw+x39E/7J/tr/yQA5AS0BGAE1AfsAHQAb/43+Nv5+/fD8Qf2n/dT9+f0P/pf+Qv8n/7r+nP63/tP+lf5n/jH+t/1b/RT92/zJ/KT8SPwt/Fz8SPy++0D7SPuC+3j7a/vH+1L8tvzd/BL9VP2B/YP9V/2J/ez9A/75/QT+Q/53/kP+Q/7R/l//3f95AEwBYwJfAxIEzQSKBRgGUgY0BlEGlAaJBqAGugYaB7oHtQdTB4sGkQWaBEIDiAHb/03+9fz8+7r62fn4+SL6Cvoo+hT7Z/wx/af9eP6R/5cA6ACCAJcAswAWAIP//v6x/oL+Bv7d/f79Uv6A/kX+of4g/1T/Z/8y/yj/Lf8G/4/++v2v/W79BP3O/OP80Pyc/Hn8n/y7/H78dPzD/BD9+Pzz/Db9ZP3N/ar9Of3F/Tv+Pf5K/nr+2/62/oT+sf7r/hL/9f4g/9D/agDWADEBwwGSAk8D6AMfBIUEOwWfBcQF0wU1BokGYgZeBosG/wZZB2EHuQe/BwUH+AUBBWEEYQMpAjoBUACL/6n+ov0Y/eL8q/zD/Fv9G/7L/jz/Z//1/3IAYABQAGQAigCRAFsAIQDi/3T/5P7B/gD/E/9C/3f/b/9k/5D/cf/R/pn+v/4C/wv/jP47/iT+A/7S/V79/fwd/X391f0B/s/9mv3P/RT+E/70/Sv+h/7M/hb/Mv9P/1z/CP/h/h3/EP/b/u7+T//0/xMA2P81AMwALAFrAb8BSALCAkcDuwNEBPwEOAUoBSsFVgWMBZ0FsQX1BWwGoQaOBpkGvQaYBh0GhwUBBYsEuQN7AoQBBwFvAML/Hf/J/gb/6f5z/j7+jf4L/0//wP8OAGoAxACZAH8AcAD0/3n/ZP9n/3//hP80/yL/Ov9A/1//PP8Q/1L/nP9+/w3/pv6Z/nD+Dv7a/X79Rv1o/VP9Of1w/b39yv3K/Tb+jP6I/q/+6P7m/tb+1P6i/qb+rv6m/gL/Fv8//2//ZP+r/8X/6P9DAFIAYgDIABwBXwHLARkCMwJ7AtkCKAOWA9gD+AM5BIEElQR9BJ4EtQSaBO4ELQU1BYcFdAU7BREF1QSqBBQEbwMTA6UCJwJsAYoANgARALv/o/+b/3H/dv/G/xAAEwAMAFIAbABqAJ8AdAA9AAQAmf9y/zz/OP9h/1z/af+Q/6j/XP/z/rr+kv5Y/jP+KP7//c/9jf1X/Wn9oP2i/Zv93P0z/pT+uv6q/sn+vP6X/q/+wf6//qH+hf6I/rH+5P7h/gv/Qv9q/8L//f8mAGcAkQCWAKEAzgD9AOEAxAALAVEBiAHAAcsBFwJiAmoCbQJwAqcC1wLjAvACJQN5A54DwwP6AwwE4gPAA8MDtAOUA5EDPQOkAmYC/wF4ASABowBNABMAxv/g/wQA2P+5/5j/k/+t/7n/2P/Y/9D/3f/O/7P/av8r/1f/Qv/h/rf+gP5y/nr+OP7n/bL9vf26/Yv9Xv0q/Rj9FP0a/S/9DP34/Br9Rv08/Q/9Kf0s/Sr9R/1L/Uv9Jf0p/Vv9a/2V/bX9gP10/bj98f1V/oL+ov77/hX/Ev/z/v7+Kv90/+r/7f/3/wAA2P/w////NQBqAD0AMwBlAKsA4wDLAMQAPQGLAVoBZwGjAZABsAHlAZYBfgGBAUYBMgE0AVcBJQGWAIcAhQAuAPL/wv/T/yYACwCw/8L/rv9c/1X/Ev/x/ir/Ff8I/+D+c/5Q/in+vf1r/Rf96/wM/ej8qPye/Hf8jvzW/MD82vwQ/fj8HP1g/TT9FP3r/Jb81fzm/Ir8yPzz/L38wPzR/AX9ZP21/ZX9cf3a/RT+Kf5D/j7+UP5q/nr+mv7U/u7+1v7L/gP/Av+i/sv+Dv/7/hD/MP8y/x//XP+G/6v/1//d/0oAcAB/AJ4APgABACUAOgAjABsA9f+2/67/rv95/3z/0v+2/7n/CQDt/8L/yv+J/0z/Sv8g/+D+r/6q/or+Pf42/mL+Jv7U/d395P0E/uT9kP3d/Tj+Dv63/ZD9kP14/U/9/fwM/Tf9+PwF/RL95vzj/JP8SPyZ/Hr8I/wz/Ef8fvxq/Df8V/yB/Kb83vzq/MX8//wa/cn8qfye/Hf8jPyo/Mb8BP3m/PX8Lf1O/bL94f0H/kX+U/5V/kX+Uv4e/qf9o/3F/aL9lv23/en9I/5Y/sH+7f7u/g7/Ev9A/0L/Ev/7/vH+tP5j/nj+hf6F/o3+j/6k/oL+Vf5//rL+mv6U/of+Rf4P/hz+SP4T/pr9Y/2Q/Zb9Zv1E/RD9Mf1R/Rz9DP37/Or87fzo/AL9+Pzi/OP8wPyW/Kj8tPxh/Ez8nPyZ/Fj8Dvzm+wH89PvJ+8n75PsA/Cj8Ivzp+8/7vPvG+wj8Nfx0/KH8hvym/Ib8Svx0/DP8G/xl/HL8Yfw6/FX8ivy+/O38Ff1u/dr9JP4D/tX93f32/QH+yP2J/Wn9ef2I/X79ov3U/QT+9/3//Vb+j/7Z/gb/AP8D/+7+zv6n/of+pP6x/nz+X/5n/lb+aP5v/i7+LP4P/uL9Mf5G/ij+O/5V/mD+Nv4D/v79A/7Z/b39r/2S/Z79ff1U/Zj9vf2d/X79dP2T/Zb9eP2A/XT9Yf14/YH9bP1B/V79m/1s/T79Qf0S/Qf9Ff0P/QT92vz6/BT9Ev0a/Rr9N/1m/Yj9gf2l/Y39Iv0+/Yv9hv2A/Xb9ZP15/Xv9bP0//U79mP2Q/aD9rf3V/Tv+Hv4M/k7+WP5t/mj+b/7J/vX+uv6h/s/+3P7t/s/+lf68/rr+kv6k/rb+5v4G//H+IP9d/4b/hP9U/2T/fP9K/wX/0f7W/sb+pP6c/nj+cv5d/j3+Vf6d/gj/Df/o/j//Xf/7/sf+Fv9K/8z+lP65/oj+W/5q/of+Zf5A/mL+ff58/qb+Dv8l/9v+z/74/vP+zP6+/rf+y/6s/lL+SP5f/mv+X/6C/sn+v/7R/h//OP8q/zL/VP9k/2//Vf/w/sn+8P74/tz+8/4v/2L/h/+M/8D/0P/a/wsAzf/G/xQAIAD8/67/rv/K/5T/i/+w//r/OgA1AEsAXwB0AIUAUwBDAD0ANQAUAOj/BADy/9f/AwA2AAwA0P8GAAwAAwAgACkAKQAtAGoAjgBtAGgAhwCOAHcAZwBwAEsAUABbAC0AMgDq//3/OwAAAOz/2P8bAGQAJgAOABAAGQBTAHwAhQCBAHcAhQCMAGwARwApAOr/2/8bACAAIQBYAGcAdQBtAFIAYABQAHoAwwDAAMwAuQCXAKQApAB5AEAADAAYAFgAQAAmADUAMABwAHwAXQCHALQA+wDbAJEA4AAQAbkAjADGAOAAywDRAO0AAwEKARcBAAH9AFkBTwEYAfoAwQDZAMkArwC2AKkA5QAdAeMAvAA1AVYB7gCxAMkAAAHdAIwAWwCEAJYAcABbAH8A5gC+AHAAdwCBAJcAQwAbAI4AngBQABkASgC5ALcAdwB5AMEAtwBbAD0ASAB3AGUACwBAAJYAdAAzADIAfwB8AHQA1gDrALsAtgCsAHkASABAAFIAUABAADUAWwCHAJ4A6wD4AOEAyQB3AJ4A3QCXAE8AQwB6AHcAPQBCAHkAtADgABwBMgEaAQIB5QDTAL4AWwD1/yEAjACUAEsAdAANAWcBYQFSAdIBHwKzAZUBygHCAWwB5gDOACUBKAHmAOUAGgElAVYBfAFPAVoBpgHiAZEBaQG9AX4BCgH6AP4A8AATARwBJQF2AaEBmQGBAZUBsgF5ATUBWgFSAQ8BIgESAfgAQgGIAYEBbAGWAbsBoAGEAWcBUQGYAZgBGgESAUQBVAEnASUBjgF5AY0BvQF8AZUB5wEPAsgBqwEZAu8BgQG4Ae0BqgFsAUwBHQEVAUQBWQE/AZ0B5AFvAWYBmQFeATwBkwHlAbYB7AFTAgcCwAGEATQBDQHWAK4AiQCSAMsA4QDtADUBngGbAYsBvQHPAU8BrgCmAHUAEwAbAFAAsQADARIBJQEfAfsA4ACSADgAOwB6AFcAUgCsAIkAXwCjANYArACXAMMArwCOAI8AggBTAGgA1QCcADUAqwACAacAUwBTAFUACwD1//D/1f8YAHwAYAAeAGQATwC+/63/7//N/4n/zf/8/7j/kP+w/9D/BAAtABQABAA2AHcAQwDg/+z/8P90/0n/hP93/1L/d//I/4v/hP/q/4z/Mv+E/+r/Wf+P/jf/nv89/3L/pv9f/xP/Zv+Z/37/xv/b/6H/1f9kAPj/Xf8BAGIA9f+z/+L/LgALAPT/CwDX/9P/DADQ/0L/av+U/0r/rf8WAMP/Pf9H/3//Sf8g/2b/k/88/3H/2P9K//v+X/8r/8/+Iv9x/1L/G/9q/2n/4/5C/9L/pv9s/77/5/+J/4b/vv+z/3T/f/98/wv/T/+Z/z3/cv///xYAxf/D/zAA+v9h/2z/jP8d/8T+Uf+t/zj/i/8eAOL/tf/A/8j/u/+4//X/k/8V/1X/Ev/Y/n//1f+5/8v/+P8EAOD/3f/f/3z/mP/V/1H/Jf95/4H/Sv9q/8v/xv+h/8j/y/90/0L/Yv9n/6n/JgAJAND/LQBtAAgAvf9QAJQA9f/4/5QAgQDK/13/tv+4/yX/fv84AFcAPgBVAIQAaABaAEUADgA7AH8AOAAAAE8AOwDA/8j/QgBXACUAagCuAG0AKwBFAFoAeQCSAHcAjwDJALEAWABVADMAu/+w/xsAdAAWAAAAuQDAACAAGwCBAE0AGQB1AEMAAABQAG0AbQBbAE0ATQA9AJcAxABAAB0AuwDrAMwA+wC7ANYAkwEIAToAoQAAAdsAhAChABoB5gDbAB8B9gDlAOsA3gDRAOgAFwEkAYMBnQEiARIBhgGzAVcBTwGWAWcBRAFCAeMAtwD7AA0BxADqABUB5QBBAc0B0gGBAboBDwKRATcBXAEcAaQAywAsAfgAoQAlAaABQgE3AVQBNwEQAfsAEgEIATcBaQGVAaMBgwGRAZUBsgF0AQgBFwETAbwAfwCkAIkAowACAe0AHwFcAXYBTAEkAYkBfgEkAWwBqwEkAQIBOQH9APIAwACCALsAOgGbAWQBQgGbAasBgwGqAfcBDgLpAecBxwFkAYEBugGJAUkBYwGrAZYBgwGWAZABngHAAbMBywH5AcMBwAH6AfQB2gHFAc8B4AGoAXwBrQG6AZYB4gEEAnsBAAGFAFAASgABAEoA4QA1AbUBOAIXArsB0gGuARUBJAGZAU8B9QCVAdcBPAFOAb0BqAGDAeoBBAK6ARYCNgKoAZEBEgK7ASUBpQHxAWQBGgGIAXsBGgGWATQC+gHnAaIChwKhAZgB9QGjAUoBhAGzAcIBNgJGAuUBegI/A/ECQQIrAjACvQFSAUoBjQH3AUYCSQKxAjAD1wJIAl0CTgKAAS8B+gFAApAB8gG8AncCCgImAnMCTQLfAUMCwQJdAogC8wJ/AtABsgEXAhkC7AEMAuwBvQEUAksC8gHQAQQC1QGbAdcB4AGtAfQBRQIHAt0BIwJoAhsCBAIsAr8BswEGAuoBxQHVASMCUwIXAvIBLAKMAnoCPgJgAogCigJJAvoBHAI4AtgB9QG8AqwC/QFTAsYCMwLdAQYC9QGRAZAB/QHNAYgB6gEcAuIB5wEJAjQCVQIRAuUB/AFqAl0CngGtAQoCwAGoAQICKwJLAoMCjwJbAv0BCQI+AuwBqgFAAroCWwIuAlgCYAIhAqYBmwH9ARICAQJJAmsCzwFBAZ4B9wF0AScBBgKgAlECeAKFAv8BxwG4AbgBnQGWAd8BFwI4AkUCIQLyASQCFgLKAeoBLAIzAgwC9AGzAaoBwAGoAdcBOAJBAisCYAJRAgQC8gEUAhwCCQLIAcIB/QHpAaABZAG7AdwB0gFIAhICBwJ9AjACowGGAcABugHPATwC2AEdAT0ByAGNAdEAEwEBAuQBJwFnAbIBVgFfAZABjQGoAaABoQGyAXkBMgHoAPgADwHyAAUBEgEkAXsBaQGXAMwAiAEdAQMBjgGAARIBCwFsAfIAKwCMANsA2QDrAK4A2ABUARoBQABFAA0B2wChAA8BCAG0ANkAKgGhABEAhQCxAE0AlADeAHAAlwAIAY8AggAoASIBqwDAAOoA5QDuAJIAUAA6AFsATwDt/1gAowCXAMkA4ADOAIwAdAB9AFIA3//0/5YAjwBFADUAfQDDAE0AAQAdACMARQBvAHAAXwCBAHwAAQD4/zYA0/+U/yUAfABIAJoABQGFAPz/zf+1/8j/xf+x/5T/w/8jADgARwAbABYAEwD3/3AATQDd/wYA/P+W/zX/bP+9/3f/dv/0//z/rf+o/4v/VP9X/zz/zv65/gv/Hf/p/tv+af/K/0r/MP+z/4z/Fv8V/xv/C/8G/xP/Kv8F/wL/Uv8w/wD/RP89/xr/Ov8l/8v+1v4S//P+y/7Y/uj+5P4i/9n+Pf6Z/vj+gP5Y/tz+AP8Q/wb/v/7P/rL+iv6v/rr+l/7o/kL/G/8N//v+7f7c/rr+of6N/vH+8P65/uT+A//7/sP+3P7u/q7+2/5J/zj/5v7b/gX/AP/O/qf+qv7o/g3/A/86/6j/av8d/3b/Xf/k/uD+Df/m/tb+Sf9u//3+/v5i/w3/mv7+/jD/6P4A/wP/xP63/r/+ev4W/lv+4P7e/r/+5P4v/z3/8P6n/nD+fP6y/qf+pP7R/tj++P5d/2f/8f4F/3T/EP+5/vH+/f7o/ij/wv+R/wD/Ov9J/8P+hf6m/mP+Lv7B/j//A//D/uP+p/6U/sb+aP6h/lr/Sf+5/s/+PP/g/qz+CP/x/rf+J/+e/3H/Cv8W/1T/NP88/0L//v4j/5n/lP9J/5v/tv9c/6D/1/95/z3/g/+j/zf/Iv+U/6X/kf/8/wsAlP/K/xsAZ/8Y/3//Vf8W/1r/tv+z/6b/BADy/5T/rv+j/1r/af/K//L/AwAzABEAwv+r/9r/5/+J/4v/GQBKAB4AJgA6AOL/m/+p/3n/lv/a/6H/qP/o/+//7/8RAEcANgAhAFMANQDs//r/OgBiADAATQC8AKwAfwB3ADYAJgBbAFcANQBfAHQAOgB0ALYAdQBwAMEAuQByAJcArwChAMgA0AChAGIAjwDdAKsArgADAQgB4QDRAOYA0ACuAOoA/QDJAMkA2QC8ANEAAwHtALMAwQDeAJ8AqwC7AJ8AwQDBANAA0wDqADkBKgHGAI4A5gAnAfMADwFMARwBCwEsAeUAwAAKAT8BdgGbAY4BqgHXAbABbwFXAWkBowHQAcABkwG4AeUB0gHHAdIBJAJAAiQCHwIOAl0COAKjAasB4AHdAfQBYAJWAt8B2AFIAiMCpgHlASMCFwIrAiQC3AG9AeUBLAJJAgcCIQJ/AnoCUAIsAvIBGwKFAlUCDAIuAnUCfQIzAjsCfQKdAs8CqQJQAjsCMwJbAocCbgJ6ArcC9gIFA4UCVQJgAjsCcAKDApwC/gIVA/ACvgJ3AmMCZgJeAoICygIRAygDKAPuAqUChwKHApICpALkAgAD3gLPAvgC7AKVAp0CCAPUAogC/AIaA8kCwQLoAu4C7AIbAxMDqgKsAtECrwLGAsYCeAJzAukC9gKUAocCtAKaAncCgAKXArIC4QI4A+sCkgKdAm4CWAJmAm0CUwKFAukC1gKnAr8CoAI5AjECgwJ9AksCsQL8AroCsQK6AogCcAKlAtQCewJ1As8CVgK2ARkCfQIMAu0BewKkAlsCiALHAn8CQQJ1AmsCUAKdAoICJAIrAk0CagKNAm4CcgK0AocCNgIkAgoC4AH0AfkB5wEsAmMCRQJIAoMCSQL9ASsCKQL1ASwCZQJRAmYCawIPAtQBAgIhAuoB0AFAApICHgL6ATkC1wGYAfoB/AHSASkCWQI0Ag8CEQJDAiYC/AEhAgECoQGRAYsBhAGVAVEBbAHiAc8BrQHSAbgBawFeAWsBWgE8ATUBWgFjAVkBJAHwABcBNQE6AWMBYQFMAV8BMQHqAJkAfwDTANEAngC5ANsA6AD4AKcAKwA+AHoAhwCkAOsA8AB9AHoAngA9ADMAhwCzAKMApAC3AHkASwBaAHIAXQBDAIwAngBQAF0AdwBFAGIAowCOAGoAhACcAIQAfABsADoAKQBFADgADAAzAF8ALgAEAEgAYAAmADIAQAA9ACUA2v/j/xkABgAUAOz/tf8LAOf/zv8rAAgA2P+5/5n/nv9+/0n/Tf+m/7P/q//v//D////4/8D/fv9a/6P/m/9v/3b/lv+9/4n/dP+L/1z/Yv+c/5P/mf+b/3L/h/+W/2z/cv+Q/57/nv97/2//d/90/1T/P/8W/+3+K/9R/wD/n/7H/i3/R/9M/zz/Sf9a/1f/OP/+/hP/H/8F//P++/4G/+T+7v7M/rT+Bf80/zr/Ff8A/w3/5v6v/qT+rv6d/p/+sf6P/lX+aP56/m/+hP6H/of+Zf5V/mr+WP5V/nD+mf6k/qL+ov6F/m/+f/5S/ij+jf5w/gT+KP4p/gf+Qf6Z/mP+Jv58/rz+kv5q/of+Qf4B/kH+Q/4w/jX+Uv5W/hb+3f27/fb9I/4P/gn++v33/d/9pf1j/T/9Qv1h/ZD9iP2W/ez9vf2F/X79Qf1p/Yn9hf2n/Zj9oP2Q/Vv9jf2j/Vf9cP2l/Xv9U/1j/Vv9TP1c/Uv9ZP2W/YH9fv2L/X39k/2Q/Vb9bP2Q/XP9eP2J/Vv9Rv1m/Wz9U/1W/bL9qP1e/WT9T/06/Rz9Nv0//fr8BP0v/Vz9Y/05/ff8ufys/Kj83vzl/Or8If33/Oj8+/zb/Iz8evy4/Nj8Df0Q/fL8Df0M/eP8yfzj/Nv85fwq/Sf98/yo/J785vzd/Kb80Pwf/e/8rPy7/Kb8h/yG/LP81fws/Zv9XP0//Vz9GP3l/PX8F/0n/Uf9Qv0h/WP9aP31/Nr89fwF/RX9Ev0c/TT9Qv1j/Vf9Iv0h/R/9Cv3W/J/8s/y5/MP84/zm/AT9RP1U/VH9Y/3//Kz82Pz3/BD9Df3v/M78ufy7/Jv8nvwE/Tn9Hf0s/Rz92vzv/Eb9Hf2H/K78L/37/PD8TP0v/fL8D/00/T79Gv0y/Wv9NP02/UL9FP1J/Zj9qv1z/Wv9wP2a/Wb9o/1e/Rz9if3U/Zj9dP3S/fn9yP24/ZD9cf2Y/fb9E/7M/Yn9fv12/Uz9bP1o/WD9ov2F/Yj90v3M/ZD9iP2O/YD9Xv1b/aP9hv1O/bP99P2q/ar9lf1M/Z795f32/cf9iP3E/cr9jf23/f/97P3s/f793/2r/Zr90v29/cr9/P3C/bL9yv35/ez91f0L/v793f3v/ef9lv2b/cD9qP2j/af9zP23/X79yP36/bL9qP21/aD9rf2S/Xb9W/1w/cr9xP3C/df9sv2S/Yn9hv2A/Xb9mP2r/X79lf2W/UT9R/1M/Sn9Vv2i/bL9k/2Y/ZL9V/1c/X39bP1Z/XH9oP2T/Vz9Zv1b/Vv9k/1j/YD9zP2G/Wn9Yf0X/QD9Nv1c/Xv9nv2S/ZL9hf0k/Q/9Zv1x/V79ov2N/S/9Lf1C/Wj9aP06/Xj9kv1s/Y39fv1k/VH9ZP2d/Yb9eP1w/Xj9bP1h/Yv9lf2Y/aX9o/2T/Xn9c/15/Xv9k/2I/Wv9Yf1Z/ZP9m/1z/ZD9nv2D/Yv9qP2G/X393f3h/Zb9gf2V/cL9jf1c/aD91P29/cT98v3V/er9C/7H/b391P3C/cr94v3H/Zv9rf3E/bP9x/26/YD9qP0Z/hz+3/2w/Xj9zP3d/Y79qv2q/cD9sP2I/Xn9U/2b/a/9kP2z/aj9jv1h/WH9kP1x/af93/2y/dD9z/2y/Zv9c/2w/er94v3u/e/90v3h/dT9fv1p/aP9BP4P/vH9Lv4J/qL9qP2W/Wj9jf3I/en97/3N/Xb9e/3n/cj9iP3k/Qn+wv2z/bD9dP2A/d/97v3U/dX9Af7p/ZD9p/2g/XH9rf3y/fL9Cf4c/tr90v0M/hf+//05/l/+B/4B/hn+7/3v/Tj+Vv4o/jD+j/6U/hP+7/0O/vb9FP5l/mD+YP54/kr+Vv5r/lD+Wv5i/oj+l/5N/lr+gP4T/uL9M/5r/or+gv59/p/+Zf4o/hf+9/0r/lv+Tv5F/kH+Nv4k/hv+/P3a/er9Ef4M/iH+Tv5N/lL+X/5d/l/+Y/5G/mD+eP4u/jv+X/49/mL+gv53/mP+ev6S/j7+SP6c/oX+f/6Z/pn+kv6P/qL+iP5n/n/+iv6d/qz+yf6i/kr+gP6R/n/+of6a/pz+r/7j/sP+hP6n/qL+jf6v/t7++/7h/p/+rP65/qb+v/7G/sz+zv7R/uj+EP/o/oj+vv7h/pH+sf7g/tb+8P7B/sv+5v6U/rr+/f4I/zX/Gv8D/wj/2f7g/uv+uv60/r7+6f4W/9z+z/74/vX+7v7z/ir/Uv8O/9v+1P7J/tz+8P4K/zT/Df8A/x3/8/75/gj/9v4G/yP/Qv8q//P+9f4i//v+2/7x/hb/Sf8n/yr/Tf81/y//QP9K/2//e/9V/1r/T/9Z/4f/dv+G/57/ef9S/yD/RP+L/6P/i/+Q/9j/y/+7/67/qf+1/5n/tv+j/6b/7f/f/7n/wP/G/6D/if+O/5b/sf/C/+r/FADN/2r/hv+w/6j/qP/G/8X/lP/L/6b/Uf+Q/5D/mP+r/4v/ef+e/6v/d/+U/63/y//g/7X/sf/D/9D/u/+1////9f+T/5H/pv+1/9r/xf+e/8b/8v/I/5z/m//I/+j/vf95/4v/yP/F/77/o/+Q/5z/jv+5/9X/kf+j/87/of+1/83/nv+z/7b/sf/y/9f/wv/8////AQDv/9//4P++/7b/vv+7/47/if+9/7H/of/l/wAA1f/s/wEA7P/S/5v/hv+l/8L/wv+p/83/1/+W/5H/if+B/7P/vf+w/7H/q/+L/3L/m//L/7P/mP/C/+L/u/+u/7H/kf+l/83/y//X/9P/0P/S/8D/xf/y////+v8UAPT/4v8MAAgAFAA6ACYALgBKADMAQAAwAPr/MwBSAB0ASwCFAIEAcAApADUAbABLAD0ASgBXAEAAMwBiAEoAGwA2ADMATwBdAD4AWAA1ADgAYABVAGAAUABXAGQALgArAIwAoQB5AHwAdAB/AH8AgQCWAHAASgBtAIEAcACjAIcAcAC+AK8AjgCkAJ4AkgDIALcAtADZAJYAagB9AL4ArwBvAIIAlACeAK4ApgCHAIUAkQCZAKcAlgCFAJYAmQChAMsA4wDjANEAlwCMAMkAywCaAK4A4wDTAMsA3gDRANAArAC3AM4ArwDeAPgA3gDtANMAtAC3AKQAwQDGAJEAnADbAN0AqwDQAMkAxAD+AN0A0QDbALYAggCjAL4AXQBKAGoAegB0AFUATQA+AGAAdABgAHoAXQBnAJkAeQBYAFsAiQC8ANAAqQBtAHUAbQBVAIQAcgBFAHkAjwBkAFsAYgBSAGUAVQBbAI4AaAB0AIcAYABTAFUAYgAhABEAVQApADYAWgArADYAKQAyAD4ALgBVAEUAKAAQAAkADgD9/ygAPQAwABkABAAJABMAPgAeAAwAJgADAPj/y//X/wAA0/8TACUA7/8RAAAA4v/8/+z/2P/0/9j/tv+9/9L/GwAYAPL/CQAJAP//EAAZABAAEQD3/+X/7f/v//3/6P/9/xYA8P/i/8v/xf/Y/7n/pv/j/+r/zv/G/4T/mf+j/4P/ef+E/9j/jP9K/3n/cv9m/z//fv+t/4P/kP+O/1r/QP9Z/1f/Rf81/0T/bv+J/2b/P/9U/1H/TP89/1r/hP9m/0X/I/8i/yX/Ov9y/2z/T/9q/5b/cf8//zL/IP8a/z3/TP8q/zj/TP83/z//T/9R/zX/EP8b/zX/E/8Q/xP/z/7c/vn+x/7z/iv/Cv8N/xj/Gv/7/tz+Ev8L//P+9f7M/pz+h/7D/uT+r/6i/qL+pP7U/r/+qv60/p3+0/4I/9j+pP6a/qH+qv63/qL+rP7O/tn+sf6M/tT+rv59/pX+ev6h/sf+1v6u/pz+rP6i/p3+av6A/n3+M/5K/mf+cP5z/nj+f/5r/m/+bf6R/rb+lf6M/pf+ov65/qf+av51/qL+df5z/oL+MP4r/kv+Uv5O/jb+Wv5n/mj+Vv4c/in+Nv4r/lP+kv6F/mv+Qf4g/lX+Mf4s/jn++v0+/kP+K/47/gP+If4p/gz+I/4p/jD+OP4p/g7+/v3S/d/9Ef7n/d/9+v3//QT+BP4W/hn+C/76/fT9E/41/iT++v0G/h7+DP4H/vr95/0g/lX+Jv4L/gT+8v0x/iv+FP5A/j7+Pf4M/v/9KP4W/iP+O/7+/d39Af4O/in+D/4B/ib+Dv4W/hb+FP4k/hP+K/4g/g/+Pv5V/ij+A/4O/hn+Kf4p/jP+Kf49/mv+QP5L/lj+Qf5z/pL+b/5f/oz+j/5w/lb+Uv5r/mf+gP5t/lj+ff5l/m/+tP68/p/+zP7E/rL++P7P/qr+uf6n/pz+pP66/uP+2P6f/pH+aP5j/o/+iv6E/qf+3v7O/qz+uf7W/s7+sv6+/r/+uf6d/of+tP7G/rf+yf65/rn+4f68/rb+1P65/rL+rv66/uH+Bv/k/rr++f4L//P+7f4C/yD/IP8W/wj/Df8g/zj/Iv8T/0D/OP8w/zL/Nf86/xj/Ff8t/yL/Kv81/yv/Tf9N/yr/IP9A/z3/K/9R/0f/VP95/1X/GP8I/xX/Fv8L/wP/Sf9f/1H/cv8L//v+b/9S/1n/cv81/27/ef8W/0z/Yv8q/0z/Wv81/zD/T/9U/1X/e/+W/0r/Kv+T/3T/Sv92/1f/af9S/xX/ZP9n/0z/jP9s/0T/PP81/3T/hv9k/2b/Yf97/4T/cf+W/4n/Yf9K/yr/K/9C/zf/NP9h/xr/+/5n/zT/K/9y/0r/Vf83/0f/b/9H/13/QP8t/xr/Iv8//yf/R/83/0z/af9d/47/kf+O/4v/Yf9V/1z/XP9u/3v/dv+Q/5j/g/+U/4b/dv92/3f/h/9i/5b/kP89/03/MP9n/4T/RP9+/37/cv+Y/4f/hv+H/3n/jv+l/2//h/+z/6H/wv+7/4z/cv+p/6b/d/+g/3z/jv+5/3T/nP++/4b/hP+l/7P/uP+9/6j/lP+h/6b/lv+z/+j/7//b/8D/vv/X/87/w/+4/73/xv/L/8b/rv/F/6X/nP/n////9f/3//D/zf/O/+//4P/g/+3/0//f//z//f/3/+j/8P/1/9r/1f8OACUADgAIAAQAIAAMAOr/DgAhACEAHgAeACYAEQD3/+r/EQAlAM7/qP/F/6j/rf/A/73/3f/8/+P/oP/Y/+f/oP/T/9r/yP/l/6v/lP+x/5b/pv/A/6n/sP/L/8v/o/+g/6j/lP+c/7H/nv95/2z/fv+M/4v/oP+T/27/gf+D/27/k/+R/4H/tv+x/4n/m/+g/6D/kf+O/7H/nP+Y/5z/g/+Y/4z/oP+Y/2b/h/9+/6H/qP9u/5D/rv+Z/2L/cv93/zX/PP9Z/3b/ef9m/3f/VP8w/z3/Sv9v/1X/PP9X/0//R/9V/1X/Rf9k/3//e/9a/z//cv+W/4P/af9d/1n/bP89/w3/ZP9H/0D/d/86/2//fv9C/1f/TP9f/3//R/8i/03/P/8I/xv/Ov9a/1f/PP9N/yf/Ff8g//7+AP8A/wD/A//2/vv+Df8F//3+Cv/t/u7+Df8W/xX/8/7+/hX/GP8d/wr/Df8b/xD/+f4Y/x3//v4N/wX/Ff/2/uD++f4A/xj//v4F//v+zP7b/hL/Df/4/hX/zP7j/hb/xP7m/vb+4/4K/9j+y/4N/xj/+P72/hv/Jf8w/yr/Ff8N//j+4P7w/jX/Fv8T/yP/2f7+/uv+vv7r/s7+7v7r/rn+8f7g/sf+6/7h/vj+Bv/9/hX/A//j/u7+xv7D/gv/+f7m/vv+0f7e/gP/3P4D/zL/GP8T/wj/KP88/wv/OP9J/z//P/8G/03/Z/8A/w7/Jf8f/0z/Xf9m/w==\" type=\"audio/wav\" />\n                    Your browser does not support the audio element.\n                </audio>\n              ",
            "text/plain": "<IPython.lib.display.Audio object>"
          },
          "metadata": {}
        },
        {
          "output_type": "display_data",
          "data": {
            "image/png": "[encoded data removed]",
            "text/plain": "<Figure size 432x288 with 1 Axes>"
          },
          "metadata": {
            "needs_background": "light"
          }
        }
      ],
      "execution_count": 18,
      "metadata": {
        "vscode": {
          "languageId": "json"
        }
      }
    }
  ],
  "metadata": {
    "kernelspec": {
      "name": "conda-env-py38_default-py",
      "language": "python",
      "display_name": "py38_default"
    },
    "language_info": {
      "name": "python",
      "version": "3.8.13",
      "mimetype": "text/x-python",
      "codemirror_mode": {
        "name": "ipython",
        "version": 3
      },
      "pygments_lexer": "ipython3",
      "nbconvert_exporter": "python",
      "file_extension": ".py"
    },
    "kernel_info": {
      "name": "conda-env-py38_default-py"
    },
    "nteract": {
      "version": "nteract-front-end@1.0.0"
    }
  },
  "nbformat": 4,
  "nbformat_minor": 4
}